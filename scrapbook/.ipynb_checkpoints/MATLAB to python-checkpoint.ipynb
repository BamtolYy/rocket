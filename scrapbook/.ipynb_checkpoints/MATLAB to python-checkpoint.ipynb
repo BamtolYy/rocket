{
 "cells": [
  {
   "cell_type": "markdown",
   "id": "160925b1-0666-48a2-8ebf-cedf87c2f2b8",
   "metadata": {},
   "source": [
    "# Intro\n",
    "I am going to try to write a code that has been written in MATLAB already in python\n",
    "\n",
    "## Reference problem & MATLAB code\n",
    "### Problem\n",
    "-  Textbook: Engineering Dynamcis A Comprehensive Introduction (N. Jeremy Kasdin and Derek A. Paley)\n",
    "    - Tutorial 3.2 Pp. 95\n",
    "    - a particle sliding on a parabola\n",
    "    - Equations:\n",
    "$$ \n",
    "\\dot{z_1}= z_2\n",
    "$$ \n",
    "$$ \n",
    "\\dot{z_2} = -\\frac{2 \\mu z_1(g+2\\mu z_2^2) }{1+4\\mu^2z_1^2}\n",
    "$$\n",
    "\n",
    "where $z_1 = x$, position of the particle and $z_2 = \\dot{x} $, speed of the particle.\n",
    "\n",
    "### MATLAB Code\n",
    "- MYODEFUN\n",
    "\n",
    "`function zdot = myodefun(t,z,g,mu)`\\\n",
    "`zdot(1,1) = z(2);`\\\n",
    "`zdot(2,1) = -2*mu*z(1)*(g+2*mu*z(2)^2)/(1+4*mu^2*z(1)^2);`\n",
    "\n",
    "- call ode45\n",
    "\n",
    "`[t,z] = ode45(@myodefun,[0 10], [1 0], [], g, mu);`\n"
   ]
  },
  {
   "cell_type": "markdown",
   "id": "39a0271f-bee6-4834-b54c-bb77de0d3d3e",
   "metadata": {},
   "source": [
    "## Now, Let's try this on Python"
   ]
  },
  {
   "cell_type": "code",
   "execution_count": null,
   "id": "c768c9b6-aa49-4771-ba89-066bb4e4336b",
   "metadata": {},
   "outputs": [],
   "source": [
    "import numpy as np"
   ]
  },
  {
   "cell_type": "markdown",
   "id": "79cfeb06-c692-478c-aa04-c6eb0a9c38a3",
   "metadata": {},
   "source": [
    "- MYODEFUN equivalent:"
   ]
  },
  {
   "cell_type": "code",
   "execution_count": 42,
   "id": "b7ef6494-d652-47d1-8bf3-3a75b4472f1e",
   "metadata": {},
   "outputs": [],
   "source": [
    "def MYODEFUN(t,z,g,mu):\n",
    "    dz1dt = z[1]\n",
    "    dz2dt = -2 * mu * z[0] * (g + 2 * mu * z[1]**2)/(1+4*mu**2*z[0]**2)\n",
    "    return [dz1dt,dz2dt]"
   ]
  },
  {
   "cell_type": "code",
   "execution_count": null,
   "id": "d379e491-22b1-48b9-a4ac-bf7e6f1cc9bb",
   "metadata": {},
   "outputs": [],
   "source": []
  }
 ],
 "metadata": {
  "kernelspec": {
   "display_name": "Python [conda env:base] *",
   "language": "python",
   "name": "conda-base-py"
  },
  "language_info": {
   "codemirror_mode": {
    "name": "ipython",
    "version": 3
   },
   "file_extension": ".py",
   "mimetype": "text/x-python",
   "name": "python",
   "nbconvert_exporter": "python",
   "pygments_lexer": "ipython3",
   "version": "3.12.7"
  }
 },
 "nbformat": 4,
 "nbformat_minor": 5
}
