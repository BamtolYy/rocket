{
 "cells": [
  {
   "cell_type": "code",
   "execution_count": null,
   "id": "b8ec105e-6078-4c34-84b4-01aaf104b002",
   "metadata": {},
   "outputs": [],
   "source": [
    "import numpy as np\n",
    "from scipy.integrate import odeint\n",
    "import matplotlib.pyplot as plt\n",
    "import math.sin as sin\n",
    "import math.cos as cos"
   ]
  },
  {
   "cell_type": "code",
   "execution_count": null,
   "id": "63159d10-7685-41f9-ad05-f17638508454",
   "metadata": {},
   "outputs": [],
   "source": [
    "def twoDRocket_ODE(state_vectors, t, g, m, IG, a, alpha, rho, T, Cl, Cd, S)\n",
    "    # state_vectors = [x, y, V_x, V_y, theta, thetaDot]\n",
    "    # g             = Gravitational Acceleration m/s^2\n",
    "    # m             = Mass of the Rocket in kg\n",
    "    # IG            = Moment of Inertia of the Rocket in kg*m^2\n",
    "    # a             = Distance between the ceneter of pressure and center of gravity\n",
    "    # alpha         = Angle of Attack\n",
    "    # T             = Thrust from Motor in Newtons\n",
    "    # rho           = Air Density\n",
    "    # Cl            = Lift Coefficient\n",
    "    # Cd            = Drag Coefficient\n",
    "    # S             = Relevant Area for Drag and Lift Force Calculation\n",
    "    ####################################################\n",
    "    # ODE\n",
    "    dxdt = vx\n",
    "    dydt = vy\n",
    "    dvxdt = (Fx*cos(theta) - Fy*sin(theta))/m\n",
    "    dvydt = (Fx*sin(theta) + Fy*cos(theta)-m*g)/m\n",
    "    dthetadt = thetaDot\n",
    "    dthetaDotdt = (-L*a*cos(alpha) - D*a*sin(alpha))/IG\n",
    "    return [dxdt, dydt, dvxdt, dvydt, dthetadt, dthetaDotdt]"
   ]
  },
  {
   "cell_type": "code",
   "execution_count": null,
   "id": "7a241fd1-095e-465a-9256-b2fe6b5563b6",
   "metadata": {},
   "outputs": [],
   "source": [
    "def vehicle_dynamics(state_vectors, t, g, m, IG, a, alpha, rho, T, Cl, Cd, S)\n",
    "    # state_vectors = [x, y, V_x, V_y, theta, thetaDot]\n",
    "    # g             = Gravitational Acceleration m/s^2\n",
    "    # m             = Mass of the Rocket in kg\n",
    "    # IG            = Moment of Inertia of the Rocket in kg*m^2\n",
    "    # a             = Distance between the ceneter of pressure and center of gravity\n",
    "    # alpha         = Angle of Attack\n",
    "    # T             = Thrust from Motor in Newtons\n",
    "    # rho           = Air Density\n",
    "    # Cl            = Lift Coefficient\n",
    "    # Cd            = Drag Coefficient\n",
    "    # S             = Relevant Area for Drag and Lift Force Calculation\n",
    "    ####################################################\n",
    "    x        = state_vectors[0] # m\n",
    "    y        = state_vectors[1] # m\n",
    "    vx       = state_vectors[2] # m/s\n",
    "    vy       = state_vectors[3] # m/s\n",
    "    theta    = state_vectors[4] # rad\n",
    "    thetaDot = state_vectors[5] # rad/s\n",
    "    ####################################################\n",
    "    v  = math.sqrt(pow(vx,2)+pow(vy,2))\n",
    "    L  = 0.5*rho*pow(v,2)*S*Cl\n",
    "    D  = 0.5*rho*pow(v,2)*S*Cd \n",
    "    Fx = T + L*sin(alpha) - D*cos(theta)\n",
    "    Fy = L*cos(alpha) + D*sin(theta)\n",
    "    ####################################################\n",
    "    solution = odeint(twoDRocket_ODE, x0, t, args = (g, m, IG, a, alpha, rho, T, Cl, Cd, S))\n"
   ]
  }
 ],
 "metadata": {
  "kernelspec": {
   "display_name": "Python [conda env:base] *",
   "language": "python",
   "name": "conda-base-py"
  },
  "language_info": {
   "codemirror_mode": {
    "name": "ipython",
    "version": 3
   },
   "file_extension": ".py",
   "mimetype": "text/x-python",
   "name": "python",
   "nbconvert_exporter": "python",
   "pygments_lexer": "ipython3",
   "version": "3.12.7"
  }
 },
 "nbformat": 4,
 "nbformat_minor": 5
}
