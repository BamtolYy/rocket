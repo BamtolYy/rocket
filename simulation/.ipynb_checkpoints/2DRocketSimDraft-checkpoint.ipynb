{
 "cells": [
  {
   "cell_type": "markdown",
   "id": "2f1c1699-6030-4caa-b112-286044996946",
   "metadata": {},
   "source": [
    "### This code is a Draft of 2D Rocket Simulation\n",
    "This code is used as a reference to produce the actual simulation I will be using for future rocket flight simulation (Written in 8/15/2025)"
   ]
  },
  {
   "cell_type": "code",
   "execution_count": 242,
   "id": "b8ec105e-6078-4c34-84b4-01aaf104b002",
   "metadata": {},
   "outputs": [],
   "source": [
    "import numpy as np\n",
    "from scipy.integrate import odeint\n",
    "import matplotlib.pyplot as plt\n",
    "from math import sin\n",
    "from math import cos\n",
    "from math import pi\n",
    "from math import tan\n",
    "import pandas as pd\n",
    "from scipy.optimize import curve_fit\n",
    "from decimal import Decimal\n",
    "import math\n",
    "from sklearn.linear_model import LinearRegression\n",
    "from sklearn.preprocessing import PolynomialFeatures\n",
    "from scipy.interpolate import interp1d\n"
   ]
  },
  {
   "cell_type": "code",
   "execution_count": 243,
   "id": "63159d10-7685-41f9-ad05-f17638508454",
   "metadata": {},
   "outputs": [],
   "source": [
    "def twoDRocket_ODE(state_vectors, t, g, m, IG, a, rho, S, Cl,thrust_function,tend,speedofsound):\n",
    "    # state_vectors   = [x, y, V_x, V_y, theta, thetaDot]\n",
    "    # t               = time vector (s)\n",
    "    # g               = Gravitational Acceleration m/s^2\n",
    "    # m               = Mass of the Rocket in kg\n",
    "    # IG              = Moment of Inertia of the Rocket in kg*m^2\n",
    "    # a               = Distance between the ceneter of pressure and center of gravity\n",
    "    # rho             = Air Density\n",
    "    # S               = Relevant Area for Drag and Lift Force Calculation    \n",
    "    # Cl              = Lift Coefficient    \n",
    "    # thrust_function = function interpolated from thrust data\n",
    "    # tend            = time at the end of the flight or simulation\n",
    "    # speedofsound    = Speed of Sound determined by temperature\n",
    "    \n",
    "    ####################################################\n",
    "    \n",
    "    ## Relevant Variables and Parameters\n",
    "    # alpha           = Angle of Attack\n",
    "    \n",
    "    ## Relevant Forces\n",
    "    # T  = Thrust from Motor in Newtons\n",
    "    # v  = magnitude of the inertial velocity of the rocket or body frame velocity with respect to the inertial frame [m/s]\n",
    "    # M  = Mach Number: speed of the object/ speed of the sound in the medium\n",
    "    # L  = Lift in N (its direction is perpendicular to the veocity vector)\n",
    "    # D  = Drag in N (its direction is parallel to the velocity vector)\n",
    "    # Fx = Horizontal force acting on the rocket in body frame in N\n",
    "    # Fy = Vertical force acting on the rocket in body frame in N\n",
    "    \n",
    "    # if t < 0.171:\n",
    "    #     a = 5.639426\n",
    "    #     b = 6.81199993\n",
    "    #     T = a*np.exp(b*t) - 5.63942\n",
    "    # elif t >= 0.171 and t < 0.191:\n",
    "    #     a = -22.25\n",
    "    #     b = 15.94475\n",
    "    #     T = a*t + b\n",
    "    # elif t >= 0.191 and t < 0.375:\n",
    "    #     a = 0.27878129\n",
    "    #     b = 0.65782577\n",
    "    #     T = a*np.exp(b/t) + 2.965\n",
    "    # elif t >= 0.375 and t < 0.746:\n",
    "    #     a = 12.06731938       \n",
    "    #     b = -41.5398888\n",
    "    #     c = 77.00778471\n",
    "    #     d = -47.47422896 \n",
    "    #     T =a + b*t + c*t**2 + d*t**3\n",
    "    # elif t >= 0.746 and t < 0.786:\n",
    "    #     a = 2.475   \n",
    "    #     b = 2.37965\n",
    "    #     T = a*t+b\n",
    "    # elif t >= 0.786 and t <= 0.86:\n",
    "    #     a = 273.0396078\n",
    "    #     b = -600.5275055\n",
    "    #     c = 329.10706648\n",
    "    #     T = a + b*t + c*t**2\n",
    "    # else:\n",
    "    #     T = 0\n",
    "    # index = np.where(time == t)[0]\n",
    "    # print(\"t: \",t)\n",
    "    # print(\"index: \",index)\n",
    "    # print(\"type(index.item()): \", type(index))\n",
    "    \n",
    "    if t > tend:\n",
    "        T = 0\n",
    "    else:\n",
    "        T = thrust_function(t)\n",
    "    v  = math.sqrt(pow(state_vectors[2],2)+pow(state_vectors[3],2))\n",
    "    M  = v/speedofsound\n",
    "    \n",
    "    if M <= 0.6 and M > 0:\n",
    "        Cd = 0.2083333*pow(M,2) - 0.25*M+0.46\n",
    "    elif M == 0:\n",
    "        Cd = 0\n",
    "    elif M > 0.6 and M <= 0.8:\n",
    "        Cd = 1.25*pow(M,3) - 2.125*pow(M,2) + 1.2*M + 0.16\n",
    "    elif M > 0.8 and M <= 0.95:\n",
    "        Cd = 10.37037*pow(M,3) - 22.88889*pow(M,2) + 16.91111*M - 3.78963\n",
    "    elif M > 0.95 and M <= 1.05:\n",
    "        Cd =-30*pow(M,3) + 88.5*pow(M,2) - 85.425*M + 27.51375\n",
    "    \n",
    "    vx    = state_vectors[2]\n",
    "    vy    = state_vectors[3]\n",
    "    theta = state_vectors[4] \n",
    "    \n",
    "    u = vy*sin(theta) + vx*cos(theta)# \"Horizontal\" component of the velocity, v, respect to the body frame; velocity resolved towards x-axis\n",
    "    w = -vx*sin(theta) + vy*cos(theta)# \"Vertical\" component of the velocity, v, respect to the body frame; velocity resolved towards y-axis\n",
    "\n",
    "    alpha = math.atan2(-w,u)\n",
    "\n",
    "    \n",
    "    L  = 0.5*rho*pow(v,2)*S*Cl*alpha\n",
    "    D  = 0.5*rho*pow(v,2)*S*Cd * np.sign(v)\n",
    "    Fbh = T + L*sin(alpha) - D*cos(alpha)\n",
    "    Fbv = L*cos(alpha) + D*sin(alpha)\n",
    "    \n",
    "    ####################################################\n",
    "\n",
    "    ## ODE\n",
    "    dxdt = state_vectors[2]\n",
    "    if T == 0 and state_vectors[1] <= 0:\n",
    "        dydt = 0\n",
    "    else:\n",
    "        dydt = state_vectors[3]\n",
    "    dvxdt = (Fbh*cos(state_vectors[4]) - Fbv*sin(state_vectors[4]))/m\n",
    "    if state_vectors[1] == 0:\n",
    "        dvydt = (Fbh*sin(state_vectors[4]) + Fbv*cos(state_vectors[4]) - m*g)/m + g\n",
    "    else :\n",
    "        dvydt = (Fbh*sin(state_vectors[4]) + Fbv*cos(state_vectors[4]) - m*g)/m\n",
    "    dthetadt = state_vectors[5]\n",
    "    dthetaDotdt = (-L*a*cos(alpha) - D*a*sin(alpha))/IG\n",
    "    return [dxdt, dydt, dvxdt, dvydt, dthetadt, dthetaDotdt]"
   ]
  },
  {
   "cell_type": "code",
   "execution_count": 244,
   "id": "3bdba366-da47-405f-88b6-cb994c991614",
   "metadata": {},
   "outputs": [
    {
     "name": "stdout",
     "output_type": "stream",
     "text": [
      "Speed of Sound: 352.52379902639194 m/s\n"
     ]
    }
   ],
   "source": [
    "## Define Parameters\n",
    "# state_vectors = [x, y, V_x, V_y, theta, thetaDot]\n",
    "# x0            = initial states\n",
    "# tstep         = step size for time vector t in seconds\n",
    "# t             = time vector (s)\n",
    "# g             = Gravitational Acceleration m/s^2\n",
    "# m             = Mass of the Rocket in kg\n",
    "# IG            = Moment of Inertia of the Rocket in kg*m^2\n",
    "# a             = Distance between the center of pressure and center of gravity in m\n",
    "# alpha         = Angle of Attack in radians\n",
    "# rho           = Air Density in kg/m^3\n",
    "# S             = Relevant Area for Drag and Lift Force Calculation in m^2  \n",
    "# Cl            = Lift Coefficient\n",
    "# Cd            = Drag CoefficiLent   \n",
    "# cp            = Center of Pressure location from the nose\n",
    "# cg            = Center of Gravity from the nose\n",
    "x0    = [0,0,0,0,pi/2,0]\n",
    "tstep = 0.0001 # s\n",
    "t     = np.arange(0,7,tstep)\n",
    "tend  = t[-1]\n",
    "g     = 9.81 # m/s^2\n",
    "m     = 0.124 # kg\n",
    "IG    = 0.007177656 # kg*m^2\n",
    "cp    = 0.626 # m\n",
    "cg    = 0.452 # m\n",
    "a     = abs(cp-cg)\n",
    "alpha = 0\n",
    "rho   = 1.130568 # kg/m^3 for Allen on 7/30/2025 at about 3:53 pm\n",
    "S     = 1/4*pi*pow(0.035,2) # m^2\n",
    "Cl    = 16.85\n",
    "gamma = 1.4\n",
    "R     = 286\n",
    "T     = 273.15 + 37.2222 # converting celsius to kelvin\n",
    "speedofsound =np.sqrt(gamma*R*T)\n",
    "print('Speed of Sound:',speedofsound, 'm/s')"
   ]
  },
  {
   "cell_type": "code",
   "execution_count": 245,
   "id": "0188303d-c62c-494c-8f27-858df06f66c3",
   "metadata": {},
   "outputs": [
    {
     "data": {
      "text/html": [
       "<div>\n",
       "<style scoped>\n",
       "    .dataframe tbody tr th:only-of-type {\n",
       "        vertical-align: middle;\n",
       "    }\n",
       "\n",
       "    .dataframe tbody tr th {\n",
       "        vertical-align: top;\n",
       "    }\n",
       "\n",
       "    .dataframe thead th {\n",
       "        text-align: right;\n",
       "    }\n",
       "</style>\n",
       "<table border=\"1\" class=\"dataframe\">\n",
       "  <thead>\n",
       "    <tr style=\"text-align: right;\">\n",
       "      <th></th>\n",
       "      <th>Thrust (N)</th>\n",
       "    </tr>\n",
       "    <tr>\n",
       "      <th>Time (s)</th>\n",
       "      <th></th>\n",
       "    </tr>\n",
       "  </thead>\n",
       "  <tbody>\n",
       "    <tr>\n",
       "      <th>0.000</th>\n",
       "      <td>0.000</td>\n",
       "    </tr>\n",
       "    <tr>\n",
       "      <th>0.023</th>\n",
       "      <td>0.688</td>\n",
       "    </tr>\n",
       "    <tr>\n",
       "      <th>0.057</th>\n",
       "      <td>2.457</td>\n",
       "    </tr>\n",
       "    <tr>\n",
       "      <th>0.089</th>\n",
       "      <td>4.816</td>\n",
       "    </tr>\n",
       "    <tr>\n",
       "      <th>0.116</th>\n",
       "      <td>7.274</td>\n",
       "    </tr>\n",
       "    <tr>\n",
       "      <th>0.148</th>\n",
       "      <td>9.929</td>\n",
       "    </tr>\n",
       "    <tr>\n",
       "      <th>0.171</th>\n",
       "      <td>12.140</td>\n",
       "    </tr>\n",
       "    <tr>\n",
       "      <th>0.191</th>\n",
       "      <td>11.695</td>\n",
       "    </tr>\n",
       "    <tr>\n",
       "      <th>0.200</th>\n",
       "      <td>10.719</td>\n",
       "    </tr>\n",
       "    <tr>\n",
       "      <th>0.209</th>\n",
       "      <td>9.240</td>\n",
       "    </tr>\n",
       "    <tr>\n",
       "      <th>0.230</th>\n",
       "      <td>7.667</td>\n",
       "    </tr>\n",
       "    <tr>\n",
       "      <th>0.255</th>\n",
       "      <td>6.488</td>\n",
       "    </tr>\n",
       "    <tr>\n",
       "      <th>0.305</th>\n",
       "      <td>5.505</td>\n",
       "    </tr>\n",
       "    <tr>\n",
       "      <th>0.375</th>\n",
       "      <td>4.816</td>\n",
       "    </tr>\n",
       "    <tr>\n",
       "      <th>0.477</th>\n",
       "      <td>4.620</td>\n",
       "    </tr>\n",
       "    <tr>\n",
       "      <th>0.580</th>\n",
       "      <td>4.620</td>\n",
       "    </tr>\n",
       "    <tr>\n",
       "      <th>0.671</th>\n",
       "      <td>4.521</td>\n",
       "    </tr>\n",
       "    <tr>\n",
       "      <th>0.746</th>\n",
       "      <td>4.226</td>\n",
       "    </tr>\n",
       "    <tr>\n",
       "      <th>0.786</th>\n",
       "      <td>4.325</td>\n",
       "    </tr>\n",
       "    <tr>\n",
       "      <th>0.802</th>\n",
       "      <td>3.145</td>\n",
       "    </tr>\n",
       "    <tr>\n",
       "      <th>0.825</th>\n",
       "      <td>1.572</td>\n",
       "    </tr>\n",
       "    <tr>\n",
       "      <th>0.880</th>\n",
       "      <td>0.000</td>\n",
       "    </tr>\n",
       "  </tbody>\n",
       "</table>\n",
       "</div>"
      ],
      "text/plain": [
       "          Thrust (N)\n",
       "Time (s)            \n",
       "0.000          0.000\n",
       "0.023          0.688\n",
       "0.057          2.457\n",
       "0.089          4.816\n",
       "0.116          7.274\n",
       "0.148          9.929\n",
       "0.171         12.140\n",
       "0.191         11.695\n",
       "0.200         10.719\n",
       "0.209          9.240\n",
       "0.230          7.667\n",
       "0.255          6.488\n",
       "0.305          5.505\n",
       "0.375          4.816\n",
       "0.477          4.620\n",
       "0.580          4.620\n",
       "0.671          4.521\n",
       "0.746          4.226\n",
       "0.786          4.325\n",
       "0.802          3.145\n",
       "0.825          1.572\n",
       "0.880          0.000"
      ]
     },
     "execution_count": 245,
     "metadata": {},
     "output_type": "execute_result"
    }
   ],
   "source": [
    "## Thrust Curve\n",
    "ThrustData = pd.read_csv(r'C:\\Users\\bktf3\\Desktop\\rocket\\simulation\\B6motorThrustDatabyJohnCoker.csv', skiprows=3)\n",
    "ThrustData.set_index('Time (s)')\n",
    "# ThrustData.plot.scatter(title = 'B6 Motor Thrust Curve by John Coker', x = 'Time (s)', y = 'Thrust (N)', xlabel = ('Time (s)'), ylabel = ('Thrust (N)')) "
   ]
  },
  {
   "cell_type": "code",
   "execution_count": 246,
   "id": "c052ae7c-cb02-4713-b13d-016f544f2df8",
   "metadata": {},
   "outputs": [
    {
     "data": {
      "text/plain": [
       "<matplotlib.legend.Legend at 0x23aa5ffac60>"
      ]
     },
     "execution_count": 246,
     "metadata": {},
     "output_type": "execute_result"
    },
    {
     "data": {
      "image/png": "[encoded data removed]",
      "text/plain": [
       "<Figure size 640x480 with 1 Axes>"
      ]
     },
     "metadata": {},
     "output_type": "display_data"
    }
   ],
   "source": [
    "## Curve Fit Thrust Curve\n",
    "ThrustData = pd.DataFrame(ThrustData).to_numpy()\n",
    "fit = []\n",
    "fit = np.interp(t, ThrustData[:,0],ThrustData[:,1])\n",
    "# Type of curve I am going to be fitting for the thrust curve\n",
    "# def linear(x, a,b):\n",
    "#     return a*x + b  \n",
    "# for i in range(0,len(ThrustData)-1):\n",
    "#     timeForCurveFit = np.arange(ThrustData[i,0],ThrustData[i+1,0]+tstep,tstep)\n",
    "#     constants       = curve_fit(linear, ThrustData[i:i+2,0], ThrustData[i:i+2,1])\n",
    "#     a = constants[0][0]\n",
    "#     b = constants[0][1]\n",
    "#     for j in timeForCurveFit:\n",
    "#         fit.append(linear(j, a,b))\n",
    "#         curvetime.append(j)\n",
    "# fit = np.array(fit)\n",
    "# curvetime = np.array(curvetime)\n",
    "\n",
    "plt.scatter(ThrustData[:,0],ThrustData[:,1])\n",
    "plt.plot(t,fit, color ='red')\n",
    "plt.title('B6 Motor Thrust Curve by John Coker')\n",
    "plt.xlabel('Time (s)')\n",
    "plt.ylabel('Thrust (N)')\n",
    "plt.xlim([0,1])\n",
    "plt.legend(['Data','Interp'])"
   ]
  },
  {
   "cell_type": "code",
   "execution_count": 247,
   "id": "7c42b1fa-cb6d-49a1-87d6-4fdde8bac277",
   "metadata": {},
   "outputs": [
    {
     "data": {
      "text/plain": [
       "<matplotlib.legend.Legend at 0x23aa21e0260>"
      ]
     },
     "execution_count": 247,
     "metadata": {},
     "output_type": "execute_result"
    },
    {
     "data": {
      "image/png": "[encoded data removed]",
      "text/plain": [
       "<Figure size 640x480 with 1 Axes>"
      ]
     },
     "metadata": {},
     "output_type": "display_data"
    }
   ],
   "source": [
    "thrust_function = interp1d(t,fit)\n",
    "type(thrust_function)\n",
    "plt.scatter(ThrustData[:,0],ThrustData[:,1])\n",
    "plt.plot(t,thrust_function(t),color=\"red\")\n",
    "plt.title('Checking Interpolated function over the actual Data')\n",
    "# plt.xlim([0,1])\n",
    "plt.legend(['Data','Interp1d Function'])"
   ]
  },
  {
   "cell_type": "code",
   "execution_count": 248,
   "id": "b870bdaf-4c9e-4053-93c1-28c7bc9799fb",
   "metadata": {},
   "outputs": [],
   "source": [
    "# ## Second attempt at fitting Thrust Curve to be used in the ODE\n",
    "# def func(x, a, b):\n",
    "#     return a*np.exp(b*x)-5.63942\n",
    "# popt, pcov = curve_fit(func,ThrustData[0:7,0],ThrustData[0:7,1])\n",
    "# print(popt)\n",
    "# timeForCurveFit = np.arange(ThrustData[0,0],ThrustData[6,0]+tstep,tstep)\n",
    "# y =func(timeForCurveFit,*popt)\n",
    "# plt.scatter(ThrustData[0:7,0],ThrustData[0:7,1])\n",
    "# plt.plot(timeForCurveFit,y,'r')\n",
    "# print(ThrustData[0:7,0])\n",
    "# print(timeForCurveFit)\n",
    "# print(ThrustData[6,0])\n",
    "# print(y[0])\n",
    "# plt.title('Curve fit for Seconds 0 to 0.171')\n",
    "# plt.legend(['Experiment', 'Curve Fit'])\n",
    "# plt.xlabel('Time (s)')\n",
    "# plt.ylabel('Newton (N)')"
   ]
  },
  {
   "cell_type": "code",
   "execution_count": 249,
   "id": "8f295941-d168-4b6a-a487-b536aef33750",
   "metadata": {},
   "outputs": [],
   "source": [
    "# ## Second attempt at fitting Thrust Curve to be used in the ODE\n",
    "# def func(x, a, b):\n",
    "#     return a*x+b\n",
    "# popt, pcov = curve_fit(func,ThrustData[6:8,0],ThrustData[6:8,1])\n",
    "# print(popt)\n",
    "# timeForCurveFit = np.arange(ThrustData[6,0],ThrustData[7,0]+tstep,tstep)\n",
    "# y =func(timeForCurveFit,*popt)\n",
    "# plt.scatter(ThrustData[6:8,0],ThrustData[6:8,1])\n",
    "# plt.plot(timeForCurveFit,y,'r')\n",
    "# # print(ThrustData[0:7,0])\n",
    "# # print(timeForCurveFit)\n",
    "# print(timeForCurveFit[-1])\n",
    "# print(ThrustData[7,0])\n",
    "# plt.title('Curve fit for Seconds 0.171 to 0.191')\n",
    "# plt.legend(['Experiment', 'Curve Fit'])\n",
    "# plt.xlabel('Time (s)')\n",
    "# plt.ylabel('Newton (N)')"
   ]
  },
  {
   "cell_type": "code",
   "execution_count": 250,
   "id": "ce9f95cf-0512-4bef-9dd1-95c051e4ca96",
   "metadata": {},
   "outputs": [],
   "source": [
    "# def func(x, a, b):\n",
    "#     return a*np.exp(b/x)+2.965\n",
    "# popt, pcov = curve_fit(func,ThrustData[7:14,0],ThrustData[7:14,1])\n",
    "# print(popt)\n",
    "# timeForCurveFit = np.arange(ThrustData[7,0],ThrustData[13,0]+tstep,tstep)\n",
    "# y =func(timeForCurveFit,*popt)\n",
    "# plt.scatter(ThrustData[7:14,0],ThrustData[7:14,1])\n",
    "# plt.plot(timeForCurveFit,y,'r')\n",
    "# print(ThrustData[7:14,0])\n",
    "# print(timeForCurveFit[-1])\n",
    "# print(ThrustData[13,0])\n",
    "# print(y[0])\n",
    "# plt.title('Curve fit for Seconds 0.191 to 0.375')\n",
    "# plt.legend(['Experiment', 'Curve Fit'])\n",
    "# plt.xlabel('Time (s)')\n",
    "# plt.ylabel('Newton (N)')"
   ]
  },
  {
   "cell_type": "code",
   "execution_count": 251,
   "id": "2851a1a8-1099-4258-b775-e03aaa94641f",
   "metadata": {},
   "outputs": [],
   "source": [
    "# def func(x, a, b,c,d):\n",
    "#     return a+b*x+c*x**2+d*x**3\n",
    "# popt, pcov = curve_fit(func,ThrustData[13:18,0],ThrustData[13:18,1])\n",
    "# print(popt)\n",
    "# timeForCurveFit = np.arange(ThrustData[13,0],ThrustData[17,0]+tstep,tstep)\n",
    "# y =func(timeForCurveFit,*popt)\n",
    "# plt.scatter(ThrustData[13:18,0],ThrustData[13:18,1])\n",
    "# plt.plot(timeForCurveFit,y,'r')\n",
    "# print(ThrustData[13:18,0])\n",
    "# print(timeForCurveFit[-1])\n",
    "# print(ThrustData[17,0])\n",
    "# print(y[0])\n",
    "# plt.title('Curve fit for Seconds 0.375 to 0.746')\n",
    "# plt.legend(['Experiment', 'Curve Fit'])\n",
    "# plt.xlabel('Time (s)')\n",
    "# plt.ylabel('Newton (N)')"
   ]
  },
  {
   "cell_type": "code",
   "execution_count": 252,
   "id": "ddb75494-3a27-4ec1-bd53-b18c8c4d546c",
   "metadata": {},
   "outputs": [],
   "source": [
    "# def func(x, a, b):\n",
    "#     return a*x+b\n",
    "# popt, pcov = curve_fit(func,ThrustData[17:19,0],ThrustData[17:19,1])\n",
    "# print(popt)\n",
    "# timeForCurveFit = np.arange(ThrustData[17,0],ThrustData[18,0]+tstep,tstep)\n",
    "# y =func(timeForCurveFit,*popt)\n",
    "# plt.scatter(ThrustData[17:19,0],ThrustData[17:19,1])\n",
    "# plt.plot(timeForCurveFit,y,'r')\n",
    "# print(ThrustData[17:19,0])\n",
    "# print(timeForCurveFit[-1])\n",
    "# print(ThrustData[18,0])\n",
    "# print(y[0])\n",
    "# plt.title('Curve fit for Seconds 0.746 to 0.786')\n",
    "# plt.legend(['Experiment', 'Curve Fit'])\n",
    "# plt.xlabel('Time (s)')\n",
    "# plt.ylabel('Newton (N)')"
   ]
  },
  {
   "cell_type": "code",
   "execution_count": 253,
   "id": "49ba4e49-19bc-4109-bc89-d8bc13096d45",
   "metadata": {},
   "outputs": [],
   "source": [
    "# def func(x, a, b,c):\n",
    "#     return a + b*x + c*x**2\n",
    "# popt, pcov = curve_fit(func,ThrustData[18:22,0],ThrustData[18:22,1])\n",
    "# print(popt)\n",
    "# timeForCurveFit = np.arange(ThrustData[18,0],ThrustData[21,0]+tstep,tstep)\n",
    "# y =func(timeForCurveFit,*popt)\n",
    "# plt.scatter(ThrustData[18:22,0],ThrustData[18:22,1])\n",
    "# plt.plot(timeForCurveFit,y,'r')\n",
    "# print(ThrustData[18:22,0])\n",
    "# print(timeForCurveFit[-1])\n",
    "# print(ThrustData[21,0])\n",
    "# print(y[0])\n",
    "# plt.title('Curve fit for Seconds 0.786 to 0.86')\n",
    "# plt.legend(['Experiment', 'Curve Fit'])\n",
    "# plt.xlabel('Time (s)')\n",
    "# plt.ylabel('Newton (N)')"
   ]
  },
  {
   "cell_type": "code",
   "execution_count": 254,
   "id": "7a241fd1-095e-465a-9256-b2fe6b5563b6",
   "metadata": {
    "scrolled": true
   },
   "outputs": [
    {
     "ename": "TypeError",
     "evalue": "twoDRocket_ODE() takes 12 positional arguments but 13 were given",
     "output_type": "error",
     "traceback": [
      "\u001b[1;31m---------------------------------------------------------------------------\u001b[0m",
      "\u001b[1;31mTypeError\u001b[0m                                 Traceback (most recent call last)",
      "Cell \u001b[1;32mIn[254], line 1\u001b[0m\n\u001b[1;32m----> 1\u001b[0m solution \u001b[38;5;241m=\u001b[39m odeint(twoDRocket_ODE, x0, t, args \u001b[38;5;241m=\u001b[39m (g, m, IG, a, alpha, rho, S, Cl, thrust_function,tend,speedofsound))\n",
      "File \u001b[1;32m~\\anaconda3\\Lib\\site-packages\\scipy\\integrate\\_odepack_py.py:254\u001b[0m, in \u001b[0;36modeint\u001b[1;34m(func, y0, t, args, Dfun, col_deriv, full_output, ml, mu, rtol, atol, tcrit, h0, hmax, hmin, ixpr, mxstep, mxhnil, mxordn, mxords, printmessg, tfirst)\u001b[0m\n\u001b[0;32m    251\u001b[0m y0 \u001b[38;5;241m=\u001b[39m copy(y0)\n\u001b[0;32m    253\u001b[0m \u001b[38;5;28;01mwith\u001b[39;00m ODE_LOCK:\n\u001b[1;32m--> 254\u001b[0m     output \u001b[38;5;241m=\u001b[39m _odepack\u001b[38;5;241m.\u001b[39modeint(func, y0, t, args, Dfun, col_deriv, ml, mu,\n\u001b[0;32m    255\u001b[0m                             full_output, rtol, atol, tcrit, h0, hmax, hmin,\n\u001b[0;32m    256\u001b[0m                             ixpr, mxstep, mxhnil, mxordn, mxords,\n\u001b[0;32m    257\u001b[0m                             \u001b[38;5;28mint\u001b[39m(\u001b[38;5;28mbool\u001b[39m(tfirst)))\n\u001b[0;32m    258\u001b[0m \u001b[38;5;28;01mif\u001b[39;00m output[\u001b[38;5;241m-\u001b[39m\u001b[38;5;241m1\u001b[39m] \u001b[38;5;241m<\u001b[39m \u001b[38;5;241m0\u001b[39m:\n\u001b[0;32m    259\u001b[0m     warning_msg \u001b[38;5;241m=\u001b[39m (\u001b[38;5;124mf\u001b[39m\u001b[38;5;124m\"\u001b[39m\u001b[38;5;132;01m{\u001b[39;00m_msgs[output[\u001b[38;5;241m-\u001b[39m\u001b[38;5;241m1\u001b[39m]]\u001b[38;5;132;01m}\u001b[39;00m\u001b[38;5;124m Run with full_output = 1 to \u001b[39m\u001b[38;5;124m\"\u001b[39m\n\u001b[0;32m    260\u001b[0m                    \u001b[38;5;124mf\u001b[39m\u001b[38;5;124m\"\u001b[39m\u001b[38;5;124mget quantitative information.\u001b[39m\u001b[38;5;124m\"\u001b[39m)\n",
      "\u001b[1;31mTypeError\u001b[0m: twoDRocket_ODE() takes 12 positional arguments but 13 were given"
     ]
    }
   ],
   "source": [
    "solution = odeint(twoDRocket_ODE, x0, t, args = (g, m, IG, a, rho, S, Cl, thrust_function,tend,speedofsound))"
   ]
  },
  {
   "cell_type": "code",
   "execution_count": null,
   "id": "51cf7cbe-5e47-4ae6-8059-0c9b5921fe65",
   "metadata": {
    "panel-layout": {
     "height": 728.140625,
     "visible": true,
     "width": 100
    }
   },
   "outputs": [],
   "source": [
    "plt.plot(t, solution[:,0])\n",
    "plt.plot(t, solution[:,1])\n",
    "plt.legend(['x','y'])\n",
    "# plt.xlabel('x(m)')\n",
    "# plt.ylabel('y (m)')\n",
    "# plt.xlim(0,0.1)\n",
    "plt.xlabel('Time (s)')\n",
    "plt.ylabel('Distance (m)')"
   ]
  },
  {
   "cell_type": "code",
   "execution_count": null,
   "id": "e30ba1f6-d547-4e1d-b5e2-d19d9db095de",
   "metadata": {
    "panel-layout": {
     "height": 728.140625,
     "visible": true,
     "width": 100
    }
   },
   "outputs": [],
   "source": [
    "plt.plot(t,solution[:,4])\n",
    "# plt.legend(['Vx'])"
   ]
  },
  {
   "cell_type": "code",
   "execution_count": null,
   "id": "3b31d21f-1018-4738-840a-1a0dd701fe84",
   "metadata": {
    "panel-layout": {
     "height": 728.140625,
     "visible": true,
     "width": 100
    }
   },
   "outputs": [],
   "source": [
    "plt.plot(t,solution[:,3])\n",
    "plt.legend(['Vy'])\n",
    "plt.xlabel('Time (s)')\n",
    "plt.ylabel('Speed (m/s)')\n",
    "plt.title('Simulated Vertical Speed (Vy) of Rocket')"
   ]
  },
  {
   "cell_type": "code",
   "execution_count": null,
   "id": "27fc7f4a-5544-4758-acd0-1face5ef89bf",
   "metadata": {},
   "outputs": [],
   "source": [
    "descentExcludedSpeed = []\n",
    "\n",
    "for j in solution[:,3]:\n",
    "    if j > 0:\n",
    "        descentExcludedSpeed.append(j)\n",
    "    else:\n",
    "        descentExcludedSpeed.append(0)\n",
    "plt.plot(t,descentExcludedSpeed)\n",
    "plt.title('Simulated Vertical Speed (Vy) of Rocket after Excluding Descent Phase')\n",
    "plt.xlabel('Time (s)')\n",
    "plt.ylabel('Speed (m/s)')\n",
    "plt.legend(['Vy'])"
   ]
  },
  {
   "cell_type": "code",
   "execution_count": null,
   "id": "69b569ee-f234-4091-9423-c16c4f3865d0",
   "metadata": {},
   "outputs": [],
   "source": [
    "# plt.plot(t,solution[:,5])"
   ]
  },
  {
   "cell_type": "code",
   "execution_count": null,
   "id": "44890b7e-da85-4988-8793-0ecc6b4ee4e7",
   "metadata": {},
   "outputs": [],
   "source": [
    "# ## Check Thrust\n",
    "# check =[]\n",
    "# for j in t:\n",
    "#     if j < 0.171:\n",
    "#         a = 5.639426\n",
    "#         b = 6.81199993\n",
    "#         T = a*np.exp(b*j) - 5.63942\n",
    "#         check.append(T)\n",
    "#     elif j >= 0.171 and j < 0.191:\n",
    "#         a = -22.25\n",
    "#         b = 15.94475\n",
    "#         T = a*j + b\n",
    "#         check.append(T)\n",
    "#     elif j >= 0.191 and j < 0.375:\n",
    "#         a = 0.27878129\n",
    "#         b = 0.65782577\n",
    "#         T = a*np.exp(b/j) + 2.965\n",
    "#         check.append(T)\n",
    "#     elif j >= 0.375 and j < 0.746:\n",
    "#         a = 12.06731938       \n",
    "#         b = -41.5398888\n",
    "#         c = 77.00778471\n",
    "#         d = -47.47422896 \n",
    "#         T =a + b*j + c*j**2 + d*j**3\n",
    "#         check.append(T)\n",
    "#     elif j >= 0.746 and j < 0.786:\n",
    "#         a = 2.475   \n",
    "#         b = 2.37965\n",
    "#         T = a*j+b\n",
    "#         check.append(T)\n",
    "#     elif j >= 0.786 and j <= 0.86:\n",
    "#         a = 273.0396078\n",
    "#         b = -600.5275055\n",
    "#         c = 329.10706648\n",
    "#         T = a + b*j + c*j**2\n",
    "#         check.append(T)\n",
    "#     else:\n",
    "#         T = 0\n",
    "#         check.append(T)\n"
   ]
  },
  {
   "cell_type": "code",
   "execution_count": null,
   "id": "e923053d-932d-4baf-80dc-a22f931bcd41",
   "metadata": {},
   "outputs": [],
   "source": [
    "# plt.plot(t,check, color = 'red')\n",
    "# plt.scatter(ThrustData[:,0],ThrustData[:,1])\n",
    "# plt.xlim(0,1)\n",
    "# plt.legend(['Interporlated', 'Actual Data'])"
   ]
  },
  {
   "cell_type": "markdown",
   "id": "18124468-7650-42fa-99d7-722b7529396e",
   "metadata": {},
   "source": [
    "#############################################################################################################################\n",
    "## SUMMARY for the Black Rocket"
   ]
  },
  {
   "cell_type": "code",
   "execution_count": null,
   "id": "ef6193cc-4cb2-4c28-a9a9-1930d1449ac6",
   "metadata": {},
   "outputs": [],
   "source": [
    "print('Maximum Height: ', round(max(solution[:,1]),2), 'm') \n",
    "speed = np.sqrt(pow(solution[:,2],2)+pow(solution[:,3],2))\n",
    "print('Maximum Speed: ', round(max(descentExcludedSpeed),2), 'm/s', 'or',  round(max(speed)/1000*60*60,2), 'km/h')\n",
    "# np.where(solution[:,1] < 0)[0]\n",
    "# print('Duration: ','--', 's')\n",
    "print('Thurst Time: ', ThrustData[-1,0], 's')\n",
    "ApogeeTime = t[np.where(solution[:,1] == max(solution[:,1]))[0]]\n",
    "print('Coast to Apogee: ', ApogeeTime-ThrustData[-1,0], 's')"
   ]
  },
  {
   "cell_type": "code",
   "execution_count": null,
   "id": "81f1adbd-486c-4e97-a73b-31be4fa2ae66",
   "metadata": {},
   "outputs": [],
   "source": [
    "# np.where(solution[:,1] < 0)[0]\n",
    "# np.where(solution[:,1] == max(solution[:,1]))[0]\n",
    "# print(np.where(solution[:,1] == max(solution[:,1]))[0])\n",
    "# print(solution[np.where(solution[:,1] == max(solution[:,1]))[0],1])\n",
    "# print(t[np.where(solution[:,1] == max(solution[:,1]))[0]])"
   ]
  },
  {
   "cell_type": "markdown",
   "id": "610e04b5-dc00-4b09-a0a6-112f9c57c73b",
   "metadata": {},
   "source": [
    "#############################################################################################################################\n",
    "## 3rd Rocket Flight Results 7/30/2025 (\"Flight #1\")"
   ]
  },
  {
   "cell_type": "code",
   "execution_count": null,
   "id": "812cbfa3-f1c7-43df-8d32-dd4b5ba68a99",
   "metadata": {
    "scrolled": true
   },
   "outputs": [],
   "source": [
    "print('Maximum Height: ', 45, 'm') \n",
    "print('Maximum Speed: ', 27, 'm/s', 'or',  round(27/1000*60*60,2), 'km/h')\n",
    "# print('Duration: ', 9.6, 's')\n",
    "print('Thurst Time: ', 0.88, 's')\n",
    "print('Coast to Apogee: ', 2.6, 's')"
   ]
  },
  {
   "cell_type": "code",
   "execution_count": null,
   "id": "963b74f6-d8fa-4f2d-a32d-b2327a4fae0f",
   "metadata": {},
   "outputs": [],
   "source": []
  }
 ],
 "metadata": {
  "kernelspec": {
   "display_name": "Python [conda env:base] *",
   "language": "python",
   "name": "conda-base-py"
  },
  "language_info": {
   "codemirror_mode": {
    "name": "ipython",
    "version": 3
   },
   "file_extension": ".py",
   "mimetype": "text/x-python",
   "name": "python",
   "nbconvert_exporter": "python",
   "pygments_lexer": "ipython3",
   "version": "3.12.7"
  },
  "panel-cell-order": [
   "51cf7cbe-5e47-4ae6-8059-0c9b5921fe65",
   "e30ba1f6-d547-4e1d-b5e2-d19d9db095de",
   "3b31d21f-1018-4738-840a-1a0dd701fe84"
  ]
 },
 "nbformat": 4,
 "nbformat_minor": 5
}
