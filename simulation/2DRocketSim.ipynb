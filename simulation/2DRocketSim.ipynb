{
 "cells": [
  {
   "cell_type": "code",
   "execution_count": 220,
   "id": "b8ec105e-6078-4c34-84b4-01aaf104b002",
   "metadata": {},
   "outputs": [],
   "source": [
    "import numpy as np\n",
    "from scipy.integrate import odeint\n",
    "import matplotlib.pyplot as plt\n",
    "from math import sin\n",
    "from math import cos\n",
    "from math import pi\n",
    "from math import tan\n",
    "import pandas as pd\n",
    "from scipy.optimize import curve_fit\n",
    "from decimal import Decimal\n",
    "import math\n",
    "from sklearn.linear_model import LinearRegression\n",
    "from sklearn.preprocessing import PolynomialFeatures"
   ]
  },
  {
   "cell_type": "code",
   "execution_count": 221,
   "id": "63159d10-7685-41f9-ad05-f17638508454",
   "metadata": {},
   "outputs": [],
   "source": [
    "def twoDRocket_ODE(state_vectors, t, g, m, IG, a, alpha, rho, S, Cl):\n",
    "    # state_vectors = [x, y, V_x, V_y, theta, thetaDot]\n",
    "    # t             = time vector (s)\n",
    "    # g             = Gravitational Acceleration m/s^2\n",
    "    # m             = Mass of the Rocket in kg\n",
    "    # IG            = Moment of Inertia of the Rocket in kg*m^2\n",
    "    # a             = Distance between the ceneter of pressure and center of gravity\n",
    "    # alpha         = Angle of Attack\n",
    "    # rho           = Air Density\n",
    "    # S             = Relevant Area for Drag and Lift Force Calculation    \n",
    "    # Cl            = Lift Coefficient\n",
    "    # Cd            = Drag Coefficient    \n",
    "    \n",
    "    ####################################################\n",
    "    \n",
    "    ## Relevant Forces\n",
    "    # T  = Thrust from Motor in Newtons\n",
    "    # v  = velocity in body frame or velocity magnitude m/s\n",
    "    # M  = Mach Number: speed of the object/ speed of the sound in the medium\n",
    "    # L  = Lift in N (its direction is perpendicular to the veocity vector)\n",
    "    # D  = Drag in N (its direction is parallel to the velocity vector)\n",
    "    # Fx = Horizontal force acting on the rocket in body frame in N\n",
    "    # Fy = Vertical force acting on the rocket in body frame in N\n",
    "    \n",
    "    if t < 0.171:\n",
    "        a = 5.639426\n",
    "        b = 6.81199993\n",
    "        T = a*np.exp(b*t) - 5.63942\n",
    "    elif t >= 0.171 and t < 0.191:\n",
    "        a = -22.25\n",
    "        b = 15.94475\n",
    "        T = a*t + b\n",
    "    elif t >= 0.191 and t < 0.375:\n",
    "        a = 0.27878129\n",
    "        b = 0.65782577\n",
    "        T = a*np.exp(b/t) + 2.965\n",
    "    elif t >= 0.375 and t < 0.746:\n",
    "        a = 12.06731938       \n",
    "        b = -41.5398888\n",
    "        c = 77.00778471\n",
    "        d = -47.47422896 \n",
    "        T =a + b*t + c*t**2 + d*t**3\n",
    "    elif t >= 0.746 and t < 0.786:\n",
    "        a = 2.475   \n",
    "        b = 2.37965\n",
    "        T = a*t+b\n",
    "    elif t >= 0.786 and t <= 0.86:\n",
    "        a = 273.0396078\n",
    "        b = -600.5275055\n",
    "        c = 329.10706648\n",
    "        T = a + b*t + c*t**2\n",
    "    else:\n",
    "        T = 0\n",
    "    v  = math.sqrt(pow(state_vectors[2],2)+pow(state_vectors[3],2))\n",
    "    M  = v/351.81\n",
    "    \n",
    "    if M <= 0.6 and M > 0:\n",
    "        Cd = 0.2083333*pow(M,2) - 0.25*M+0.46\n",
    "    elif M == 0:\n",
    "        Cd = 0\n",
    "    elif M > 0.6 and M <= 0.8:\n",
    "        Cd = 1.25*pow(M,3) - 2.125*pow(M,2) + 1.2*M + 0.16\n",
    "    elif M > 0.8 and M <= 0.95:\n",
    "        Cd = 10.37037*pow(M,3) - 22.88889*pow(M,2) + 16.91111*M - 3.78963\n",
    "    elif M > 0.95 and M <= 1.05:\n",
    "        Cd =-30*pow(M,3) + 88.5*pow(M,2) - 85.425*M + 27.51375\n",
    "        \n",
    "    L  = 0.5*rho*pow(v,2)*S*Cl\n",
    "    D  = 0.5*rho*pow(v,2)*S*Cd * np.sign(v)\n",
    "    Fbh = T + L*sin(alpha) - D*cos(alpha)\n",
    "    Fbv = L*cos(alpha) + D*sin(alpha)\n",
    "    \n",
    "    ####################################################\n",
    "\n",
    "    ## ODE\n",
    "    dxdt = state_vectors[2]\n",
    "    if T == 0 and state_vectors[1] <= 0:\n",
    "        dydt = 0\n",
    "    else:\n",
    "        dydt = state_vectors[3]\n",
    "    dvxdt = (Fbh*cos(state_vectors[4]) - Fbv*sin(state_vectors[4]))/m\n",
    "    if state_vectors[1] == 0:\n",
    "        dvydt = (Fbh*sin(state_vectors[4]) + Fbv*cos(state_vectors[4]) - m*g)/m + g\n",
    "    else :\n",
    "        dvydt = (Fbh*sin(state_vectors[4]) + Fbv*cos(state_vectors[4]) - m*g)/m\n",
    "    dthetadt = state_vectors[5]\n",
    "    dthetaDotdt = (-L*a*cos(alpha) - D*a*sin(alpha))/IG\n",
    "    return [dxdt, dydt, dvxdt, dvydt, dthetadt, dthetaDotdt]"
   ]
  },
  {
   "cell_type": "code",
   "execution_count": 222,
   "id": "3bdba366-da47-405f-88b6-cb994c991614",
   "metadata": {},
   "outputs": [],
   "source": [
    "## Define Parameters\n",
    "# state_vectors = [x, y, V_x, V_y, theta, thetaDot]\n",
    "# x0            = initial states\n",
    "# tstep         = step size for time vector t in seconds\n",
    "# t             = time vector (s)\n",
    "# g             = Gravitational Acceleration m/s^2\n",
    "# m             = Mass of the Rocket in kg\n",
    "# IG            = Moment of Inertia of the Rocket in kg*m^2\n",
    "# a             = Distance between the center of pressure and center of gravity in m\n",
    "# alpha         = Angle of Attack in radians\n",
    "# rho           = Air Density in kg/m^3\n",
    "# S             = Relevant Area for Drag and Lift Force Calculation in m^2  \n",
    "# Cl            = Lift Coefficient\n",
    "# Cd            = Drag CoefficiLent   \n",
    "# cp            = Center of Pressure location from the nose\n",
    "# cg            = Center of Gravity from the nose\n",
    "x0    = [0,0,0,0,pi/2,0]\n",
    "tstep = 0.001 # s\n",
    "t     = np.arange(0,7,tstep)\n",
    "g     = 9.81 # m/s^2\n",
    "m     = 0.124 # kg\n",
    "IG    = 0.007177656 # kg*m^2\n",
    "cp    = 0.626 # m\n",
    "cg    = 0.452 # m\n",
    "a     = abs(cp-cg)\n",
    "alpha = 0\n",
    "rho   = 1.225 # kg/m^3 at sea level Temporary value. Change it according to the day I launch it.\n",
    "S     = 1/4*pi*pow(0.035,2) # m^2\n",
    "Cl    = 16.85 * alpha"
   ]
  },
  {
   "cell_type": "code",
   "execution_count": 223,
   "id": "0188303d-c62c-494c-8f27-858df06f66c3",
   "metadata": {},
   "outputs": [
    {
     "data": {
      "text/html": [
       "<div>\n",
       "<style scoped>\n",
       "    .dataframe tbody tr th:only-of-type {\n",
       "        vertical-align: middle;\n",
       "    }\n",
       "\n",
       "    .dataframe tbody tr th {\n",
       "        vertical-align: top;\n",
       "    }\n",
       "\n",
       "    .dataframe thead th {\n",
       "        text-align: right;\n",
       "    }\n",
       "</style>\n",
       "<table border=\"1\" class=\"dataframe\">\n",
       "  <thead>\n",
       "    <tr style=\"text-align: right;\">\n",
       "      <th></th>\n",
       "      <th>Thrust (N)</th>\n",
       "    </tr>\n",
       "    <tr>\n",
       "      <th>Time (s)</th>\n",
       "      <th></th>\n",
       "    </tr>\n",
       "  </thead>\n",
       "  <tbody>\n",
       "    <tr>\n",
       "      <th>0.000</th>\n",
       "      <td>0.000</td>\n",
       "    </tr>\n",
       "    <tr>\n",
       "      <th>0.023</th>\n",
       "      <td>0.688</td>\n",
       "    </tr>\n",
       "    <tr>\n",
       "      <th>0.057</th>\n",
       "      <td>2.457</td>\n",
       "    </tr>\n",
       "    <tr>\n",
       "      <th>0.089</th>\n",
       "      <td>4.816</td>\n",
       "    </tr>\n",
       "    <tr>\n",
       "      <th>0.116</th>\n",
       "      <td>7.274</td>\n",
       "    </tr>\n",
       "    <tr>\n",
       "      <th>0.148</th>\n",
       "      <td>9.929</td>\n",
       "    </tr>\n",
       "    <tr>\n",
       "      <th>0.171</th>\n",
       "      <td>12.140</td>\n",
       "    </tr>\n",
       "    <tr>\n",
       "      <th>0.191</th>\n",
       "      <td>11.695</td>\n",
       "    </tr>\n",
       "    <tr>\n",
       "      <th>0.200</th>\n",
       "      <td>10.719</td>\n",
       "    </tr>\n",
       "    <tr>\n",
       "      <th>0.209</th>\n",
       "      <td>9.240</td>\n",
       "    </tr>\n",
       "    <tr>\n",
       "      <th>0.230</th>\n",
       "      <td>7.667</td>\n",
       "    </tr>\n",
       "    <tr>\n",
       "      <th>0.255</th>\n",
       "      <td>6.488</td>\n",
       "    </tr>\n",
       "    <tr>\n",
       "      <th>0.305</th>\n",
       "      <td>5.505</td>\n",
       "    </tr>\n",
       "    <tr>\n",
       "      <th>0.375</th>\n",
       "      <td>4.816</td>\n",
       "    </tr>\n",
       "    <tr>\n",
       "      <th>0.477</th>\n",
       "      <td>4.620</td>\n",
       "    </tr>\n",
       "    <tr>\n",
       "      <th>0.580</th>\n",
       "      <td>4.620</td>\n",
       "    </tr>\n",
       "    <tr>\n",
       "      <th>0.671</th>\n",
       "      <td>4.521</td>\n",
       "    </tr>\n",
       "    <tr>\n",
       "      <th>0.746</th>\n",
       "      <td>4.226</td>\n",
       "    </tr>\n",
       "    <tr>\n",
       "      <th>0.786</th>\n",
       "      <td>4.325</td>\n",
       "    </tr>\n",
       "    <tr>\n",
       "      <th>0.802</th>\n",
       "      <td>3.145</td>\n",
       "    </tr>\n",
       "    <tr>\n",
       "      <th>0.825</th>\n",
       "      <td>1.572</td>\n",
       "    </tr>\n",
       "    <tr>\n",
       "      <th>0.860</th>\n",
       "      <td>0.000</td>\n",
       "    </tr>\n",
       "  </tbody>\n",
       "</table>\n",
       "</div>"
      ],
      "text/plain": [
       "          Thrust (N)\n",
       "Time (s)            \n",
       "0.000          0.000\n",
       "0.023          0.688\n",
       "0.057          2.457\n",
       "0.089          4.816\n",
       "0.116          7.274\n",
       "0.148          9.929\n",
       "0.171         12.140\n",
       "0.191         11.695\n",
       "0.200         10.719\n",
       "0.209          9.240\n",
       "0.230          7.667\n",
       "0.255          6.488\n",
       "0.305          5.505\n",
       "0.375          4.816\n",
       "0.477          4.620\n",
       "0.580          4.620\n",
       "0.671          4.521\n",
       "0.746          4.226\n",
       "0.786          4.325\n",
       "0.802          3.145\n",
       "0.825          1.572\n",
       "0.860          0.000"
      ]
     },
     "execution_count": 223,
     "metadata": {},
     "output_type": "execute_result"
    }
   ],
   "source": [
    "## Thrust Curve\n",
    "ThrustData = pd.read_csv(r'C:\\Users\\bktf3\\Desktop\\rocket\\simulation\\B6motorThrustDatabyJohnCoker.csv', skiprows=3)\n",
    "ThrustData.set_index('Time (s)')\n",
    "# ThrustData.plot.scatter(title = 'B6 Motor Thrust Curve by John Coker', x = 'Time (s)', y = 'Thrust (N)', xlabel = ('Time (s)'), ylabel = ('Thrust (N)')) "
   ]
  },
  {
   "cell_type": "code",
   "execution_count": 224,
   "id": "c052ae7c-cb02-4713-b13d-016f544f2df8",
   "metadata": {},
   "outputs": [
    {
     "name": "stderr",
     "output_type": "stream",
     "text": [
      "C:\\Users\\bktf3\\AppData\\Local\\Temp\\ipykernel_2588\\2881334060.py:10: OptimizeWarning: Covariance of the parameters could not be estimated\n",
      "  constants       = curve_fit(linear, ThrustData[i:i+2,0], ThrustData[i:i+2,1])\n"
     ]
    },
    {
     "data": {
      "text/plain": [
       "Text(0, 0.5, 'Thrust (N)')"
      ]
     },
     "execution_count": 224,
     "metadata": {},
     "output_type": "execute_result"
    },
    {
     "data": {
      "image/png": "[encoded data removed]",
      "text/plain": [
       "<Figure size 640x480 with 1 Axes>"
      ]
     },
     "metadata": {},
     "output_type": "display_data"
    }
   ],
   "source": [
    "## Curve Fit Thrust Curve\n",
    "ThrustData = pd.DataFrame(ThrustData).to_numpy()\n",
    "fit = []\n",
    "curvetime = []\n",
    "# Type of curve I am going to be fitting for the thrust curve\n",
    "def linear(x, a,b):\n",
    "    return a*x + b  \n",
    "for i in range(0,len(ThrustData)-1):\n",
    "    timeForCurveFit = np.arange(ThrustData[i,0],ThrustData[i+1,0]+tstep,tstep)\n",
    "    constants       = curve_fit(linear, ThrustData[i:i+2,0], ThrustData[i:i+2,1])\n",
    "    a = constants[0][0]\n",
    "    b = constants[0][1]\n",
    "    for j in timeForCurveFit:\n",
    "        fit.append(linear(j, a,b))\n",
    "        curvetime.append(j)\n",
    "fit = np.array(fit)\n",
    "curvetime = np.array(curvetime)\n",
    "\n",
    "plt.scatter(ThrustData[:,0],ThrustData[:,1])\n",
    "plt.plot(curvetime,fit, color ='red')\n",
    "plt.title('B6 Motor Thrust Curve by John Coker')\n",
    "plt.xlabel('Time (s)')\n",
    "plt.ylabel('Thrust (N)')"
   ]
  },
  {
   "cell_type": "code",
   "execution_count": 225,
   "id": "b870bdaf-4c9e-4053-93c1-28c7bc9799fb",
   "metadata": {},
   "outputs": [],
   "source": [
    "# ## Second attempt at fitting Thrust Curve to be used in the ODE\n",
    "# def func(x, a, b):\n",
    "#     return a*np.exp(b*x)-5.63942\n",
    "# popt, pcov = curve_fit(func,ThrustData[0:7,0],ThrustData[0:7,1])\n",
    "# print(popt)\n",
    "# timeForCurveFit = np.arange(ThrustData[0,0],ThrustData[6,0]+tstep,tstep)\n",
    "# y =func(timeForCurveFit,*popt)\n",
    "# plt.scatter(ThrustData[0:7,0],ThrustData[0:7,1])\n",
    "# plt.plot(timeForCurveFit,y,'r')\n",
    "# print(ThrustData[0:7,0])\n",
    "# print(timeForCurveFit)\n",
    "# print(ThrustData[6,0])\n",
    "# print(y[0])\n",
    "# plt.title('Curve fit for Seconds 0 to 0.171')\n",
    "# plt.legend(['Experiment', 'Curve Fit'])\n",
    "# plt.xlabel('Time (s)')\n",
    "# plt.ylabel('Newton (N)')"
   ]
  },
  {
   "cell_type": "code",
   "execution_count": 226,
   "id": "8f295941-d168-4b6a-a487-b536aef33750",
   "metadata": {},
   "outputs": [],
   "source": [
    "# ## Second attempt at fitting Thrust Curve to be used in the ODE\n",
    "# def func(x, a, b):\n",
    "#     return a*x+b\n",
    "# popt, pcov = curve_fit(func,ThrustData[6:8,0],ThrustData[6:8,1])\n",
    "# print(popt)\n",
    "# timeForCurveFit = np.arange(ThrustData[6,0],ThrustData[7,0]+tstep,tstep)\n",
    "# y =func(timeForCurveFit,*popt)\n",
    "# plt.scatter(ThrustData[6:8,0],ThrustData[6:8,1])\n",
    "# plt.plot(timeForCurveFit,y,'r')\n",
    "# # print(ThrustData[0:7,0])\n",
    "# # print(timeForCurveFit)\n",
    "# print(timeForCurveFit[-1])\n",
    "# print(ThrustData[7,0])\n",
    "# plt.title('Curve fit for Seconds 0.171 to 0.191')\n",
    "# plt.legend(['Experiment', 'Curve Fit'])\n",
    "# plt.xlabel('Time (s)')\n",
    "# plt.ylabel('Newton (N)')"
   ]
  },
  {
   "cell_type": "code",
   "execution_count": 227,
   "id": "ce9f95cf-0512-4bef-9dd1-95c051e4ca96",
   "metadata": {},
   "outputs": [],
   "source": [
    "# def func(x, a, b):\n",
    "#     return a*np.exp(b/x)+2.965\n",
    "# popt, pcov = curve_fit(func,ThrustData[7:14,0],ThrustData[7:14,1])\n",
    "# print(popt)\n",
    "# timeForCurveFit = np.arange(ThrustData[7,0],ThrustData[13,0]+tstep,tstep)\n",
    "# y =func(timeForCurveFit,*popt)\n",
    "# plt.scatter(ThrustData[7:14,0],ThrustData[7:14,1])\n",
    "# plt.plot(timeForCurveFit,y,'r')\n",
    "# print(ThrustData[7:14,0])\n",
    "# print(timeForCurveFit[-1])\n",
    "# print(ThrustData[13,0])\n",
    "# print(y[0])\n",
    "# plt.title('Curve fit for Seconds 0.191 to 0.375')\n",
    "# plt.legend(['Experiment', 'Curve Fit'])\n",
    "# plt.xlabel('Time (s)')\n",
    "# plt.ylabel('Newton (N)')"
   ]
  },
  {
   "cell_type": "code",
   "execution_count": 228,
   "id": "2851a1a8-1099-4258-b775-e03aaa94641f",
   "metadata": {},
   "outputs": [],
   "source": [
    "# def func(x, a, b,c,d):\n",
    "#     return a+b*x+c*x**2+d*x**3\n",
    "# popt, pcov = curve_fit(func,ThrustData[13:18,0],ThrustData[13:18,1])\n",
    "# print(popt)\n",
    "# timeForCurveFit = np.arange(ThrustData[13,0],ThrustData[17,0]+tstep,tstep)\n",
    "# y =func(timeForCurveFit,*popt)\n",
    "# plt.scatter(ThrustData[13:18,0],ThrustData[13:18,1])\n",
    "# plt.plot(timeForCurveFit,y,'r')\n",
    "# print(ThrustData[13:18,0])\n",
    "# print(timeForCurveFit[-1])\n",
    "# print(ThrustData[17,0])\n",
    "# print(y[0])\n",
    "# plt.title('Curve fit for Seconds 0.375 to 0.746')\n",
    "# plt.legend(['Experiment', 'Curve Fit'])\n",
    "# plt.xlabel('Time (s)')\n",
    "# plt.ylabel('Newton (N)')"
   ]
  },
  {
   "cell_type": "code",
   "execution_count": 229,
   "id": "ddb75494-3a27-4ec1-bd53-b18c8c4d546c",
   "metadata": {},
   "outputs": [],
   "source": [
    "# def func(x, a, b):\n",
    "#     return a*x+b\n",
    "# popt, pcov = curve_fit(func,ThrustData[17:19,0],ThrustData[17:19,1])\n",
    "# print(popt)\n",
    "# timeForCurveFit = np.arange(ThrustData[17,0],ThrustData[18,0]+tstep,tstep)\n",
    "# y =func(timeForCurveFit,*popt)\n",
    "# plt.scatter(ThrustData[17:19,0],ThrustData[17:19,1])\n",
    "# plt.plot(timeForCurveFit,y,'r')\n",
    "# print(ThrustData[17:19,0])\n",
    "# print(timeForCurveFit[-1])\n",
    "# print(ThrustData[18,0])\n",
    "# print(y[0])\n",
    "# plt.title('Curve fit for Seconds 0.746 to 0.786')\n",
    "# plt.legend(['Experiment', 'Curve Fit'])\n",
    "# plt.xlabel('Time (s)')\n",
    "# plt.ylabel('Newton (N)')"
   ]
  },
  {
   "cell_type": "code",
   "execution_count": 230,
   "id": "49ba4e49-19bc-4109-bc89-d8bc13096d45",
   "metadata": {},
   "outputs": [],
   "source": [
    "# def func(x, a, b,c):\n",
    "#     return a + b*x + c*x**2\n",
    "# popt, pcov = curve_fit(func,ThrustData[18:22,0],ThrustData[18:22,1])\n",
    "# print(popt)\n",
    "# timeForCurveFit = np.arange(ThrustData[18,0],ThrustData[21,0]+tstep,tstep)\n",
    "# y =func(timeForCurveFit,*popt)\n",
    "# plt.scatter(ThrustData[18:22,0],ThrustData[18:22,1])\n",
    "# plt.plot(timeForCurveFit,y,'r')\n",
    "# print(ThrustData[18:22,0])\n",
    "# print(timeForCurveFit[-1])\n",
    "# print(ThrustData[21,0])\n",
    "# print(y[0])\n",
    "# plt.title('Curve fit for Seconds 0.786 to 0.86')\n",
    "# plt.legend(['Experiment', 'Curve Fit'])\n",
    "# plt.xlabel('Time (s)')\n",
    "# plt.ylabel('Newton (N)')"
   ]
  },
  {
   "cell_type": "code",
   "execution_count": 231,
   "id": "7a241fd1-095e-465a-9256-b2fe6b5563b6",
   "metadata": {},
   "outputs": [],
   "source": [
    "solution = odeint(twoDRocket_ODE, x0, t, args = (g, m, IG, a, alpha, rho, S, Cl))"
   ]
  },
  {
   "cell_type": "code",
   "execution_count": 271,
   "id": "51cf7cbe-5e47-4ae6-8059-0c9b5921fe65",
   "metadata": {
    "panel-layout": {
     "height": 728.140625,
     "visible": true,
     "width": 100
    }
   },
   "outputs": [
    {
     "data": {
      "text/plain": [
       "<matplotlib.legend.Legend at 0x2aa98666490>"
      ]
     },
     "execution_count": 271,
     "metadata": {},
     "output_type": "execute_result"
    },
    {
     "data": {
      "image/png": "[encoded data removed]",
      "text/plain": [
       "<Figure size 640x480 with 1 Axes>"
      ]
     },
     "metadata": {},
     "output_type": "display_data"
    }
   ],
   "source": [
    "plt.plot(t, solution[:,0])\n",
    "plt.plot(t, solution[:,1])\n",
    "plt.legend(['x','y'])\n",
    "# plt.xlabel('x(m)')\n",
    "# plt.ylabel('y (m)')\n",
    "# plt.xlim(0,0.1)"
   ]
  },
  {
   "cell_type": "code",
   "execution_count": 233,
   "id": "e30ba1f6-d547-4e1d-b5e2-d19d9db095de",
   "metadata": {
    "panel-layout": {
     "height": 728.140625,
     "visible": true,
     "width": 100
    }
   },
   "outputs": [],
   "source": [
    "# plt.plot(t,solution[:,2])\n",
    "# plt.legend(['Vx'])"
   ]
  },
  {
   "cell_type": "code",
   "execution_count": 234,
   "id": "3b31d21f-1018-4738-840a-1a0dd701fe84",
   "metadata": {
    "panel-layout": {
     "height": 728.140625,
     "visible": true,
     "width": 100
    }
   },
   "outputs": [
    {
     "data": {
      "text/plain": [
       "<matplotlib.legend.Legend at 0x2aa984dfed0>"
      ]
     },
     "execution_count": 234,
     "metadata": {},
     "output_type": "execute_result"
    },
    {
     "data": {
      "image/png": "[encoded data removed]",
      "text/plain": [
       "<Figure size 640x480 with 1 Axes>"
      ]
     },
     "metadata": {},
     "output_type": "display_data"
    }
   ],
   "source": [
    "plt.plot(t,solution[:,3])\n",
    "plt.legend(['Vy'])"
   ]
  },
  {
   "cell_type": "code",
   "execution_count": 235,
   "id": "27fc7f4a-5544-4758-acd0-1face5ef89bf",
   "metadata": {},
   "outputs": [],
   "source": [
    "# plt.plot(t,solution[:,4])\n",
    "# plt.legend(['Theta'])"
   ]
  },
  {
   "cell_type": "code",
   "execution_count": 236,
   "id": "69b569ee-f234-4091-9423-c16c4f3865d0",
   "metadata": {},
   "outputs": [],
   "source": [
    "# plt.plot(t,solution[:,5])"
   ]
  },
  {
   "cell_type": "code",
   "execution_count": null,
   "id": "bda44749-043f-46b6-818b-0cbaaa00f8a0",
   "metadata": {},
   "outputs": [],
   "source": []
  },
  {
   "cell_type": "code",
   "execution_count": 237,
   "id": "44890b7e-da85-4988-8793-0ecc6b4ee4e7",
   "metadata": {},
   "outputs": [],
   "source": [
    "## Check Thrust\n",
    "check =[]\n",
    "for j in t:\n",
    "    if j < 0.171:\n",
    "        a = 5.639426\n",
    "        b = 6.81199993\n",
    "        T = a*np.exp(b*j) - 5.63942\n",
    "        check.append(T)\n",
    "    elif j >= 0.171 and j < 0.191:\n",
    "        a = -22.25\n",
    "        b = 15.94475\n",
    "        T = a*j + b\n",
    "        check.append(T)\n",
    "    elif j >= 0.191 and j < 0.375:\n",
    "        a = 0.27878129\n",
    "        b = 0.65782577\n",
    "        T = a*np.exp(b/j) + 2.965\n",
    "        check.append(T)\n",
    "    elif j >= 0.375 and j < 0.746:\n",
    "        a = 12.06731938       \n",
    "        b = -41.5398888\n",
    "        c = 77.00778471\n",
    "        d = -47.47422896 \n",
    "        T =a + b*j + c*j**2 + d*j**3\n",
    "        check.append(T)\n",
    "    elif j >= 0.746 and j < 0.786:\n",
    "        a = 2.475   \n",
    "        b = 2.37965\n",
    "        T = a*j+b\n",
    "        check.append(T)\n",
    "    elif j >= 0.786 and j <= 0.86:\n",
    "        a = 273.0396078\n",
    "        b = -600.5275055\n",
    "        c = 329.10706648\n",
    "        T = a + b*j + c*j**2\n",
    "        check.append(T)\n",
    "    else:\n",
    "        T = 0\n",
    "        check.append(T)\n"
   ]
  },
  {
   "cell_type": "code",
   "execution_count": 238,
   "id": "e923053d-932d-4baf-80dc-a22f931bcd41",
   "metadata": {},
   "outputs": [
    {
     "data": {
      "text/plain": [
       "(0.0, 1.0)"
      ]
     },
     "execution_count": 238,
     "metadata": {},
     "output_type": "execute_result"
    },
    {
     "data": {
      "image/png": "[encoded data removed]",
      "text/plain": [
       "<Figure size 640x480 with 1 Axes>"
      ]
     },
     "metadata": {},
     "output_type": "display_data"
    }
   ],
   "source": [
    "plt.plot(t,check)\n",
    "plt.scatter(ThrustData[:,0],ThrustData[:,1])\n",
    "plt.xlim(0,1)"
   ]
  },
  {
   "cell_type": "markdown",
   "id": "18124468-7650-42fa-99d7-722b7529396e",
   "metadata": {},
   "source": [
    "#############################################################################################################################\n",
    "## SUMMARY for the Black Rocket"
   ]
  },
  {
   "cell_type": "code",
   "execution_count": 273,
   "id": "ef6193cc-4cb2-4c28-a9a9-1930d1449ac6",
   "metadata": {},
   "outputs": [
    {
     "name": "stdout",
     "output_type": "stream",
     "text": [
      "Maximum Height:  44.18 m\n",
      "Maximum Speed:  39.26 m/s or 141.35 km/h\n",
      "Duration:  6.321 s\n"
     ]
    }
   ],
   "source": [
    "print('Maximum Height: ', round(max(solution[:,1]),2), 'm') \n",
    "speed = np.sqrt(pow(solution[:,2],2)+pow(solution[:,3],2))\n",
    "print('Maximum Speed: ', round(max(speed),2), 'm/s', 'or',  round(max(speed)/1000*60*60,2), 'km/h')\n",
    "np.where(solution[:,1] < 0)[0]\n",
    "print('Duration: ', t[6321], 's')"
   ]
  },
  {
   "cell_type": "code",
   "execution_count": 269,
   "id": "81f1adbd-486c-4e97-a73b-31be4fa2ae66",
   "metadata": {},
   "outputs": [
    {
     "data": {
      "text/plain": [
       "array([   1,    2,    3,    4,    5,    6,    7,    8,    9,   10,   11,\n",
       "         12,   13,   14,   15,   16,   17,   18,   19,   20,   21,   22,\n",
       "         23,   24,   25,   26,   27,   28,   29,   30,   31,   32,   33,\n",
       "         34,   35,   36,   37,   38,   39,   40,   41,   42,   43,   44,\n",
       "         45,   46,   47,   48,   49,   50,   51,   52,   53,   54,   55,\n",
       "         56,   57,   58,   59,   60,   61,   62,   63,   64,   65,   66,\n",
       "         67,   68,   69,   70,   71,   72,   73,   74,   75,   76,   77,\n",
       "         78,   79,   80,   81,   82, 6321, 6322, 6323, 6324, 6325, 6326,\n",
       "       6327, 6328, 6329, 6330, 6331, 6332, 6333, 6334, 6335, 6336, 6337,\n",
       "       6338, 6339, 6340, 6341, 6342, 6343, 6344, 6345, 6346, 6347, 6348,\n",
       "       6349, 6350, 6351, 6352, 6353, 6354, 6355, 6356, 6357, 6358, 6359,\n",
       "       6360, 6361, 6362, 6363, 6364, 6365, 6366, 6367, 6368, 6369, 6370,\n",
       "       6371, 6372, 6373, 6374, 6375, 6376, 6377, 6378, 6379, 6380, 6381,\n",
       "       6382, 6383, 6384, 6385, 6386, 6387, 6388, 6389, 6390, 6391, 6392,\n",
       "       6393, 6394, 6395, 6396, 6397, 6398, 6399, 6400, 6401, 6402, 6403,\n",
       "       6404, 6405, 6406, 6407, 6408, 6409, 6410, 6411, 6412, 6413, 6414,\n",
       "       6415, 6416, 6417, 6418, 6419, 6420, 6421, 6422, 6423, 6424, 6425,\n",
       "       6426, 6427, 6428, 6429, 6430, 6431, 6432, 6433, 6434, 6435, 6436,\n",
       "       6437, 6438, 6439, 6440, 6441, 6442, 6443, 6444, 6445, 6446, 6447,\n",
       "       6448, 6449, 6450, 6451, 6452, 6453, 6454, 6455, 6456, 6457, 6458,\n",
       "       6459, 6460, 6461, 6462, 6463, 6464, 6465, 6466, 6467, 6468, 6469,\n",
       "       6470, 6471, 6472, 6473, 6474, 6475, 6476, 6477, 6478, 6479, 6480,\n",
       "       6481, 6482, 6483, 6484, 6485, 6486, 6487, 6488, 6489, 6490, 6491,\n",
       "       6492, 6493, 6494, 6495, 6496, 6497, 6498, 6499, 6500, 6501, 6502,\n",
       "       6503, 6504, 6505, 6506, 6507, 6508, 6509, 6510, 6511, 6512, 6513,\n",
       "       6514, 6515, 6516, 6517, 6518, 6519, 6520, 6521, 6522, 6523, 6524,\n",
       "       6525, 6526, 6527, 6528, 6529, 6530, 6531, 6532, 6533, 6534, 6535,\n",
       "       6536, 6537, 6538, 6539, 6540, 6541, 6542, 6543, 6544, 6545, 6546,\n",
       "       6547, 6548, 6549, 6550, 6551, 6552, 6553, 6554, 6555, 6556, 6557,\n",
       "       6558, 6559, 6560, 6561, 6562, 6563, 6564, 6565, 6566, 6567, 6568,\n",
       "       6569, 6570, 6571, 6572, 6573, 6574, 6575, 6576, 6577, 6578, 6579,\n",
       "       6580, 6581, 6582, 6583, 6584, 6585, 6586, 6587, 6588, 6589, 6590,\n",
       "       6591, 6592, 6593, 6594, 6595, 6596, 6597, 6598, 6599, 6600, 6601,\n",
       "       6602, 6603, 6604, 6605, 6606, 6607, 6608, 6609, 6610, 6611, 6612,\n",
       "       6613, 6614, 6615, 6616, 6617, 6618, 6619, 6620, 6621, 6622, 6623,\n",
       "       6624, 6625, 6626, 6627, 6628, 6629, 6630, 6631, 6632, 6633, 6634,\n",
       "       6635, 6636, 6637, 6638, 6639, 6640, 6641, 6642, 6643, 6644, 6645,\n",
       "       6646, 6647, 6648, 6649, 6650, 6651, 6652, 6653, 6654, 6655, 6656,\n",
       "       6657, 6658, 6659, 6660, 6661, 6662, 6663, 6664, 6665, 6666, 6667,\n",
       "       6668, 6669, 6670, 6671, 6672, 6673, 6674, 6675, 6676, 6677, 6678,\n",
       "       6679, 6680, 6681, 6682, 6683, 6684, 6685, 6686, 6687, 6688, 6689,\n",
       "       6690, 6691, 6692, 6693, 6694, 6695, 6696, 6697, 6698, 6699, 6700,\n",
       "       6701, 6702, 6703, 6704, 6705, 6706, 6707, 6708, 6709, 6710, 6711,\n",
       "       6712, 6713, 6714, 6715, 6716, 6717, 6718, 6719, 6720, 6721, 6722,\n",
       "       6723, 6724, 6725, 6726, 6727, 6728, 6729, 6730, 6731, 6732, 6733,\n",
       "       6734, 6735, 6736, 6737, 6738, 6739, 6740, 6741, 6742, 6743, 6744,\n",
       "       6745, 6746, 6747, 6748, 6749, 6750, 6751, 6752, 6753, 6754, 6755,\n",
       "       6756, 6757, 6758, 6759, 6760, 6761, 6762, 6763, 6764, 6765, 6766,\n",
       "       6767, 6768, 6769, 6770, 6771, 6772, 6773, 6774, 6775, 6776, 6777,\n",
       "       6778, 6779, 6780, 6781, 6782, 6783, 6784, 6785, 6786, 6787, 6788,\n",
       "       6789, 6790, 6791, 6792, 6793, 6794, 6795, 6796, 6797, 6798, 6799,\n",
       "       6800, 6801, 6802, 6803, 6804, 6805, 6806, 6807, 6808, 6809, 6810,\n",
       "       6811, 6812, 6813, 6814, 6815, 6816, 6817, 6818, 6819, 6820, 6821,\n",
       "       6822, 6823, 6824, 6825, 6826, 6827, 6828, 6829, 6830, 6831, 6832,\n",
       "       6833, 6834, 6835, 6836, 6837, 6838, 6839, 6840, 6841, 6842, 6843,\n",
       "       6844, 6845, 6846, 6847, 6848, 6849, 6850, 6851, 6852, 6853, 6854,\n",
       "       6855, 6856, 6857, 6858, 6859, 6860, 6861, 6862, 6863, 6864, 6865,\n",
       "       6866, 6867, 6868, 6869, 6870, 6871, 6872, 6873, 6874, 6875, 6876,\n",
       "       6877, 6878, 6879, 6880, 6881, 6882, 6883, 6884, 6885, 6886, 6887,\n",
       "       6888, 6889, 6890, 6891, 6892, 6893, 6894, 6895, 6896, 6897, 6898,\n",
       "       6899, 6900, 6901, 6902, 6903, 6904, 6905, 6906, 6907, 6908, 6909,\n",
       "       6910, 6911, 6912, 6913, 6914, 6915, 6916, 6917, 6918, 6919, 6920,\n",
       "       6921, 6922, 6923, 6924, 6925, 6926, 6927, 6928, 6929, 6930, 6931,\n",
       "       6932, 6933, 6934, 6935, 6936, 6937, 6938, 6939, 6940, 6941, 6942,\n",
       "       6943, 6944, 6945, 6946, 6947, 6948, 6949, 6950, 6951, 6952, 6953,\n",
       "       6954, 6955, 6956, 6957, 6958, 6959, 6960, 6961, 6962, 6963, 6964,\n",
       "       6965, 6966, 6967, 6968, 6969, 6970, 6971, 6972, 6973, 6974, 6975,\n",
       "       6976, 6977, 6978, 6979, 6980, 6981, 6982, 6983, 6984, 6985, 6986,\n",
       "       6987, 6988, 6989, 6990, 6991, 6992, 6993, 6994, 6995, 6996, 6997,\n",
       "       6998, 6999])"
      ]
     },
     "execution_count": 269,
     "metadata": {},
     "output_type": "execute_result"
    }
   ],
   "source": [
    "# np.where(solution[:,1] < 0)[0]"
   ]
  },
  {
   "cell_type": "code",
   "execution_count": null,
   "id": "a2800634-56d9-4c60-9c3f-8e479a0dbe1e",
   "metadata": {},
   "outputs": [],
   "source": []
  }
 ],
 "metadata": {
  "kernelspec": {
   "display_name": "Python 3 (ipykernel)",
   "language": "python",
   "name": "python3"
  },
  "language_info": {
   "codemirror_mode": {
    "name": "ipython",
    "version": 3
   },
   "file_extension": ".py",
   "mimetype": "text/x-python",
   "name": "python",
   "nbconvert_exporter": "python",
   "pygments_lexer": "ipython3",
   "version": "3.13.5"
  },
  "panel-cell-order": [
   "51cf7cbe-5e47-4ae6-8059-0c9b5921fe65",
   "e30ba1f6-d547-4e1d-b5e2-d19d9db095de",
   "3b31d21f-1018-4738-840a-1a0dd701fe84"
  ]
 },
 "nbformat": 4,
 "nbformat_minor": 5
}
