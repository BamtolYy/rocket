{
 "cells": [
  {
   "cell_type": "code",
   "execution_count": 1,
   "id": "b8ec105e-6078-4c34-84b4-01aaf104b002",
   "metadata": {},
   "outputs": [],
   "source": [
    "import numpy as np\n",
    "from scipy.integrate import odeint\n",
    "import matplotlib.pyplot as plt\n",
    "from math import sin\n",
    "from math import cos\n",
    "from math import pi\n",
    "from math import tan\n",
    "import pandas as pd\n",
    "from scipy.optimize import curve_fit\n",
    "from decimal import Decimal\n",
    "import math\n",
    "from sklearn.linear_model import LinearRegression\n",
    "from sklearn.preprocessing import PolynomialFeatures"
   ]
  },
  {
   "cell_type": "code",
   "execution_count": 2,
   "id": "63159d10-7685-41f9-ad05-f17638508454",
   "metadata": {},
   "outputs": [],
   "source": [
    "def twoDRocket_ODE(state_vectors, t, g, m, IG, a, alpha, rho, S, Cl):\n",
    "    # state_vectors = [x, y, V_x, V_y, theta, thetaDot]\n",
    "    # t             = time vector (s)\n",
    "    # g             = Gravitational Acceleration m/s^2\n",
    "    # m             = Mass of the Rocket in kg\n",
    "    # IG            = Moment of Inertia of the Rocket in kg*m^2\n",
    "    # a             = Distance between the ceneter of pressure and center of gravity\n",
    "    # alpha         = Angle of Attack\n",
    "    # rho           = Air Density\n",
    "    # S             = Relevant Area for Drag and Lift Force Calculation    \n",
    "    # Cl            = Lift Coefficient\n",
    "    # Cd            = Drag Coefficient    \n",
    "    \n",
    "    ####################################################\n",
    "    \n",
    "    ## Relevant Forces\n",
    "    # T  = Thrust from Motor in Newtons\n",
    "    # v  = velocity in body frame or velocity magnitude m/s\n",
    "    # M  = Mach Number: speed of the object/ speed of the sound in the medium\n",
    "    # L  = Lift in N (its direction is perpendicular to the veocity vector)\n",
    "    # D  = Drag in N (its direction is parallel to the velocity vector)\n",
    "    # Fx = Horizontal force acting on the rocket in body frame in N\n",
    "    # Fy = Vertical force acting on the rocket in body frame in N\n",
    "    \n",
    "    # if t < 0.171:\n",
    "    #     a = 5.639426\n",
    "    #     b = 6.81199993\n",
    "    #     T = a*np.exp(b*t) - 5.63942\n",
    "    # elif t >= 0.171 and t < 0.191:\n",
    "    #     a = -22.25\n",
    "    #     b = 15.94475\n",
    "    #     T = a*t + b\n",
    "    # elif t >= 0.191 and t < 0.375:\n",
    "    #     a = 0.27878129 L\n",
    "    #     b = 0.65782577\n",
    "    #     T = a*np.exp(b/t) + 2.965\n",
    "    # elif t >= 0.375 and t < 0.746:\n",
    "    #     a = 12.06731938       \n",
    "    #     b = -41.5398888\n",
    "    #     c = 77.00778471\n",
    "    #     d = -47.47422896 \n",
    "    #     T =a + b*t + c*t**2 + d*t**3\n",
    "    # elif t >= 0.746 and t < 0.786:\n",
    "    #     a = 2.475   \n",
    "    #     b = 2.37965\n",
    "    #     T = a*t+b\n",
    "    # elif t >= 0.786 and t <= 0.86:\n",
    "    #     a = 273.0396078\n",
    "    #     b = -600.5275055\n",
    "    #     c = 329.10706648\n",
    "    #     T = a + b*t + c*t**2\n",
    "    # else:\n",
    "    #     T = 0\n",
    "    T  = 12\n",
    "    v  = math.sqrt(pow(state_vectors[2],2)+pow(state_vectors[3],2))\n",
    "    M  = v/351.81\n",
    "    \n",
    "    if M <= 0.6 and M > 0:\n",
    "        Cd = 0.2083333*pow(M,2) - 0.25*M+0.46\n",
    "    elif M == 0:\n",
    "        Cd = 0\n",
    "    elif M > 0.6 and M <= 0.8:\n",
    "        Cd = 1.25*pow(M,3) - 2.125*pow(M,2) + 1.2*M + 0.16\n",
    "    elif M > 0.8 and M <= 0.95:\n",
    "        Cd = 10.37037*pow(M,3) - 22.88889*pow(M,2) + 16.91111*M - 3.78963\n",
    "    elif M > 0.95 and M <= 1.05:\n",
    "        Cd =-30*pow(M,3) + 88.5*pow(M,2) - 85.425*M + 27.51375\n",
    "        \n",
    "    L  = 0.5*rho*pow(v,2)*S*Cl\n",
    "    D  = 0.5*rho*pow(v,2)*S*Cd * np.sign(v)\n",
    "    Fbh = T + L*sin(alpha) - D*cos(alpha)\n",
    "    Fbv = L*cos(alpha) + D*sin(alpha)\n",
    "    \n",
    "    ####################################################\n",
    "\n",
    "    ## ODE\n",
    "    dxdt = state_vectors[2]\n",
    "    dydt = state_vectors[3]\n",
    "    dvxdt = (Fbh*cos(state_vectors[4]) - Fbv*sin(state_vectors[4]))/m\n",
    "    if state_vectors[1] == 0:\n",
    "        dvydt = (Fbh*sin(state_vectors[4]) + Fbv*cos(state_vectors[4]) - m*g)/m + g\n",
    "    else :\n",
    "        dvydt = (Fbh*sin(state_vectors[4]) + Fbv*cos(state_vectors[4]) - m*g)/m\n",
    "    dthetadt = state_vectors[5]\n",
    "    dthetaDotdt = (-L*a*cos(alpha) - D*a*sin(alpha))/IG\n",
    "    return [dxdt, dydt, dvxdt, dvydt, dthetadt, dthetaDotdt]"
   ]
  },
  {
   "cell_type": "code",
   "execution_count": 3,
   "id": "3bdba366-da47-405f-88b6-cb994c991614",
   "metadata": {},
   "outputs": [],
   "source": [
    "## Define Parameters\n",
    "# state_vectors = [x, y, V_x, V_y, theta, thetaDot]\n",
    "# x0            = initial states\n",
    "# tstep         = step size for time vector t in seconds\n",
    "# t             = time vector (s)\n",
    "# g             = Gravitational Acceleration m/s^2\n",
    "# m             = Mass of the Rocket in kg\n",
    "# IG            = Moment of Inertia of the Rocket in kg*m^2\n",
    "# a             = Distance between the center of pressure and center of gravity in m\n",
    "# alpha         = Angle of Attack in radians\n",
    "# rho           = Air Density in kg/m^3\n",
    "# S             = Relevant Area for Drag and Lift Force Calculation in m^2  \n",
    "# Cl            = Lift Coefficient\n",
    "# Cd            = Drag CoefficiLent   \n",
    "# cp            = Center of Pressure location from the nose\n",
    "# cg            = Center of Gravity from the nose\n",
    "x0    = [0,0,0,0,pi/2,0]\n",
    "tstep = 0.001 # s\n",
    "t     = np.arange(0,10,tstep)\n",
    "g     = 9.81 # m/s^2\n",
    "m     = 0.124 # kg\n",
    "IG    = 0.007177656 # kg*m^2\n",
    "cp    = 0.626 # m\n",
    "cg    = 0.452 # m\n",
    "a     = abs(cp-cg)\n",
    "alpha = 0\n",
    "rho   = 1.225 # kg/m^3 at sea level Temporary value. Change it according to the day I launch it.\n",
    "S     = 1/4*pi*pow(0.035,2) # m^2\n",
    "Cl    = 16.85 * alpha"
   ]
  },
  {
   "cell_type": "code",
   "execution_count": 4,
   "id": "0188303d-c62c-494c-8f27-858df06f66c3",
   "metadata": {},
   "outputs": [],
   "source": [
    "# ## Thrust Curve\n",
    "# ThrustData = pd.read_csv(r'C:\\Users\\bktf3\\Desktop\\rocket\\simulation\\B6motorThrustDatabyJohnCoker.csv', skiprows=3)\n",
    "# ThrustData.set_index('Time (s)')\n",
    "# ThrustData.plot.scatter(title = 'B6 Motor Thrust Curve by John Coker', x = 'Time (s)', y = 'Thrust (N)', xlabel = ('Time (s)'), ylabel = ('Thrust (N)')) "
   ]
  },
  {
   "cell_type": "code",
   "execution_count": 5,
   "id": "c052ae7c-cb02-4713-b13d-016f544f2df8",
   "metadata": {},
   "outputs": [],
   "source": [
    "# # ## Curve Fit Thrust Curve\n",
    "# ThrustData = pd.DataFrame(ThrustData).to_numpy()\n",
    "# fit = []\n",
    "# curvetime = []\n",
    "# # Type of curve I am going to be fitting for the thrust curve\n",
    "# def linear(x, a,b):\n",
    "#     return a*x + b  \n",
    "# for i in range(0,len(ThrustData)-1):\n",
    "#     timeForCurveFit = np.arange(ThrustData[i,0],ThrustData[i+1,0]+tstep,tstep)\n",
    "#     constants       = curve_fit(linear, ThrustData[i:i+2,0], ThrustData[i:i+2,1])\n",
    "#     a = constants[0][0]\n",
    "#     b = constants[0][1]\n",
    "#     for j in timeForCurveFit:\n",
    "#         fit.append(linear(j, a,b))\n",
    "#         curvetime.append(j)\n",
    "# fit = np.array(fit)\n",
    "# curvetime = np.array(curvetime)\n",
    "\n",
    "# plt.scatter(ThrustData[:,0],ThrustData[:,1])\n",
    "# plt.plot(curvetime,fit, color ='red')\n",
    "# plt.title('B6 Motor Thrust Curve by John Coker')\n",
    "# plt.xlabel('Time (s)')\n",
    "# plt.ylabel('Thrust (N)')"
   ]
  },
  {
   "cell_type": "code",
   "execution_count": 6,
   "id": "b870bdaf-4c9e-4053-93c1-28c7bc9799fb",
   "metadata": {},
   "outputs": [],
   "source": [
    "# ## Second attempt at fitting Thrust Curve to be used in the ODE\n",
    "# def func(x, a, b):\n",
    "#     return a*np.exp(b*x)-5.63942\n",
    "# popt, pcov = curve_fit(func,ThrustData[0:7,0],ThrustData[0:7,1])\n",
    "# print(popt)\n",
    "# timeForCurveFit = np.arange(ThrustData[0,0],ThrustData[6,0]+tstep,tstep)\n",
    "# y =func(timeForCurveFit,*popt)\n",
    "# plt.scatter(ThrustData[0:7,0],ThrustData[0:7,1])\n",
    "# plt.plot(timeForCurveFit,y,'r')\n",
    "# print(ThrustData[0:7,0])\n",
    "# print(timeForCurveFit)\n",
    "# print(ThrustData[6,0])\n",
    "# print(y[0])\n",
    "# plt.title('Curve fit for Seconds 0 to 0.171')\n",
    "# plt.legend(['Experiment', 'Curve Fit'])\n",
    "# plt.xlabel('Time (s)')\n",
    "# plt.ylabel('Newton (N)')"
   ]
  },
  {
   "cell_type": "code",
   "execution_count": 7,
   "id": "8f295941-d168-4b6a-a487-b536aef33750",
   "metadata": {},
   "outputs": [],
   "source": [
    "# ## Second attempt at fitting Thrust Curve to be used in the ODE\n",
    "# def func(x, a, b):\n",
    "#     return a*x+b\n",
    "# popt, pcov = curve_fit(func,ThrustData[6:8,0],ThrustData[6:8,1])\n",
    "# print(popt)\n",
    "# timeForCurveFit = np.arange(ThrustData[6,0],ThrustData[7,0]+tstep,tstep)\n",
    "# y =func(timeForCurveFit,*popt)\n",
    "# plt.scatter(ThrustData[6:8,0],ThrustData[6:8,1])\n",
    "# plt.plot(timeForCurveFit,y,'r')\n",
    "# # print(ThrustData[0:7,0])\n",
    "# # print(timeForCurveFit)\n",
    "# print(timeForCurveFit[-1])\n",
    "# print(ThrustData[7,0])\n",
    "# plt.title('Curve fit for Seconds 0.171 to 0.191')\n",
    "# plt.legend(['Experiment', 'Curve Fit'])\n",
    "# plt.xlabel('Time (s)')\n",
    "# plt.ylabel('Newton (N)')"
   ]
  },
  {
   "cell_type": "code",
   "execution_count": 8,
   "id": "ce9f95cf-0512-4bef-9dd1-95c051e4ca96",
   "metadata": {},
   "outputs": [],
   "source": [
    "# def func(x, a, b):\n",
    "#     return a*np.exp(b/x)+2.965\n",
    "# popt, pcov = curve_fit(func,ThrustData[7:14,0],ThrustData[7:14,1])\n",
    "# print(popt)\n",
    "# timeForCurveFit = np.arange(ThrustData[7,0],ThrustData[13,0]+tstep,tstep)\n",
    "# y =func(timeForCurveFit,*popt)\n",
    "# plt.scatter(ThrustData[7:14,0],ThrustData[7:14,1])\n",
    "# plt.plot(timeForCurveFit,y,'r')\n",
    "# print(ThrustData[7:14,0])\n",
    "# print(timeForCurveFit[-1])\n",
    "# print(ThrustData[13,0])\n",
    "# print(y[0])\n",
    "# plt.title('Curve fit for Seconds 0.191 to 0.375')\n",
    "# plt.legend(['Experiment', 'Curve Fit'])\n",
    "# plt.xlabel('Time (s)')\n",
    "# plt.ylabel('Newton (N)')"
   ]
  },
  {
   "cell_type": "code",
   "execution_count": 9,
   "id": "2851a1a8-1099-4258-b775-e03aaa94641f",
   "metadata": {},
   "outputs": [],
   "source": [
    "# def func(x, a, b,c,d):\n",
    "#     return a+b*x+c*x**2+d*x**3\n",
    "# popt, pcov = curve_fit(func,ThrustData[13:18,0],ThrustData[13:18,1])\n",
    "# print(popt)\n",
    "# timeForCurveFit = np.arange(ThrustData[13,0],ThrustData[17,0]+tstep,tstep)\n",
    "# y =func(timeForCurveFit,*popt)\n",
    "# plt.scatter(ThrustData[13:18,0],ThrustData[13:18,1])\n",
    "# plt.plot(timeForCurveFit,y,'r')\n",
    "# print(ThrustData[13:18,0])\n",
    "# print(timeForCurveFit[-1])\n",
    "# print(ThrustData[17,0])\n",
    "# print(y[0])\n",
    "# plt.title('Curve fit for Seconds 0.375 to 0.746')\n",
    "# plt.legend(['Experiment', 'Curve Fit'])\n",
    "# plt.xlabel('Time (s)')\n",
    "# plt.ylabel('Newton (N)')"
   ]
  },
  {
   "cell_type": "code",
   "execution_count": 10,
   "id": "ddb75494-3a27-4ec1-bd53-b18c8c4d546c",
   "metadata": {},
   "outputs": [],
   "source": [
    "# def func(x, a, b):\n",
    "#     return a*x+b\n",
    "# popt, pcov = curve_fit(func,ThrustData[17:19,0],ThrustData[17:19,1])\n",
    "# print(popt)\n",
    "# timeForCurveFit = np.arange(ThrustData[17,0],ThrustData[18,0]+tstep,tstep)\n",
    "# y =func(timeForCurveFit,*popt)\n",
    "# plt.scatter(ThrustData[17:19,0],ThrustData[17:19,1])\n",
    "# plt.plot(timeForCurveFit,y,'r')\n",
    "# print(ThrustData[17:19,0])\n",
    "# print(timeForCurveFit[-1])\n",
    "# print(ThrustData[18,0])\n",
    "# print(y[0])\n",
    "# plt.title('Curve fit for Seconds 0.746 to 0.786')\n",
    "# plt.legend(['Experiment', 'Curve Fit'])\n",
    "# plt.xlabel('Time (s)')\n",
    "# plt.ylabel('Newton (N)')"
   ]
  },
  {
   "cell_type": "code",
   "execution_count": 11,
   "id": "49ba4e49-19bc-4109-bc89-d8bc13096d45",
   "metadata": {},
   "outputs": [],
   "source": [
    "# def func(x, a, b,c):\n",
    "#     return a + b*x + c*x**2\n",
    "# popt, pcov = curve_fit(func,ThrustData[18:22,0],ThrustData[18:22,1])\n",
    "# print(popt)\n",
    "# timeForCurveFit = np.arange(ThrustData[18,0],ThrustData[21,0]+tstep,tstep)\n",
    "# y =func(timeForCurveFit,*popt)\n",
    "# plt.scatter(ThrustData[18:22,0],ThrustData[18:22,1])\n",
    "# plt.plot(timeForCurveFit,y,'r')\n",
    "# print(ThrustData[18:22,0])\n",
    "# print(timeForCurveFit[-1])\n",
    "# print(ThrustData[21,0])\n",
    "# print(y[0])\n",
    "# plt.title('Curve fit for Seconds 0.786 to 0.86')\n",
    "# plt.legend(['Experiment', 'Curve Fit'])\n",
    "# plt.xlabel('Time (s)')\n",
    "# plt.ylabel('Newton (N)')"
   ]
  },
  {
   "cell_type": "code",
   "execution_count": 12,
   "id": "7a241fd1-095e-465a-9256-b2fe6b5563b6",
   "metadata": {},
   "outputs": [],
   "source": [
    "solution = odeint(twoDRocket_ODE, x0, t, args = (g, m, IG, a, alpha, rho, S, Cl))"
   ]
  },
  {
   "cell_type": "code",
   "execution_count": 19,
   "id": "51cf7cbe-5e47-4ae6-8059-0c9b5921fe65",
   "metadata": {
    "panel-layout": {
     "height": 728.140625,
     "visible": true,
     "width": 100
    }
   },
   "outputs": [
    {
     "data": {
      "text/plain": [
       "(-5.0, 5.0)"
      ]
     },
     "execution_count": 19,
     "metadata": {},
     "output_type": "execute_result"
    },
    {
     "data": {
      "image/png": "[encoded data removed]",
      "text/plain": [
       "<Figure size 640x480 with 1 Axes>"
      ]
     },
     "metadata": {},
     "output_type": "display_data"
    }
   ],
   "source": [
    "plt.plot(solution[:,0], solution[:,1])\n",
    "\n",
    "plt.xlabel('x(m)')\n",
    "plt.ylabel('y (m)')\n",
    "plt.xlim(-5,5)"
   ]
  },
  {
   "cell_type": "code",
   "execution_count": 20,
   "id": "e30ba1f6-d547-4e1d-b5e2-d19d9db095de",
   "metadata": {
    "panel-layout": {
     "height": 728.140625,
     "visible": true,
     "width": 100
    }
   },
   "outputs": [
    {
     "data": {
      "text/plain": [
       "<matplotlib.legend.Legend at 0x2bb0aa88e10>"
      ]
     },
     "execution_count": 20,
     "metadata": {},
     "output_type": "execute_result"
    },
    {
     "data": {
      "image/png": "[encoded data removed]",
      "text/plain": [
       "<Figure size 640x480 with 1 Axes>"
      ]
     },
     "metadata": {},
     "output_type": "display_data"
    }
   ],
   "source": [
    "plt.plot(t,solution[:,2])\n",
    "plt.legend(['Vx'])"
   ]
  },
  {
   "cell_type": "code",
   "execution_count": 21,
   "id": "3b31d21f-1018-4738-840a-1a0dd701fe84",
   "metadata": {
    "panel-layout": {
     "height": 728.140625,
     "visible": true,
     "width": 100
    }
   },
   "outputs": [
    {
     "data": {
      "text/plain": [
       "<matplotlib.legend.Legend at 0x2bb0aad3c50>"
      ]
     },
     "execution_count": 21,
     "metadata": {},
     "output_type": "execute_result"
    },
    {
     "data": {
      "image/png": "[encoded data removed]",
      "text/plain": [
       "<Figure size 640x480 with 1 Axes>"
      ]
     },
     "metadata": {},
     "output_type": "display_data"
    }
   ],
   "source": [
    "plt.plot(t,solution[:,3])\n",
    "plt.legend(['Vy'])"
   ]
  },
  {
   "cell_type": "code",
   "execution_count": 16,
   "id": "27fc7f4a-5544-4758-acd0-1face5ef89bf",
   "metadata": {},
   "outputs": [],
   "source": [
    "# plt.plot(t,solution[:,4])\n",
    "# plt.legend(['Theta'])"
   ]
  },
  {
   "cell_type": "code",
   "execution_count": 17,
   "id": "69b569ee-f234-4091-9423-c16c4f3865d0",
   "metadata": {},
   "outputs": [],
   "source": [
    "# plt.plot(t,solution[:,5])"
   ]
  },
  {
   "cell_type": "code",
   "execution_count": null,
   "id": "bda44749-043f-46b6-818b-0cbaaa00f8a0",
   "metadata": {},
   "outputs": [],
   "source": []
  },
  {
   "cell_type": "code",
   "execution_count": null,
   "id": "44890b7e-da85-4988-8793-0ecc6b4ee4e7",
   "metadata": {},
   "outputs": [],
   "source": []
  },
  {
   "cell_type": "code",
   "execution_count": null,
   "id": "e923053d-932d-4baf-80dc-a22f931bcd41",
   "metadata": {},
   "outputs": [],
   "source": []
  },
  {
   "cell_type": "code",
   "execution_count": null,
   "id": "58836f8d-1b8f-43bd-8507-d64c04cb04f8",
   "metadata": {},
   "outputs": [],
   "source": []
  }
 ],
 "metadata": {
  "kernelspec": {
   "display_name": "Python 3 (ipykernel)",
   "language": "python",
   "name": "python3"
  },
  "language_info": {
   "codemirror_mode": {
    "name": "ipython",
    "version": 3
   },
   "file_extension": ".py",
   "mimetype": "text/x-python",
   "name": "python",
   "nbconvert_exporter": "python",
   "pygments_lexer": "ipython3",
   "version": "3.13.5"
  },
  "panel-cell-order": [
   "51cf7cbe-5e47-4ae6-8059-0c9b5921fe65",
   "e30ba1f6-d547-4e1d-b5e2-d19d9db095de",
   "3b31d21f-1018-4738-840a-1a0dd701fe84"
  ]
 },
 "nbformat": 4,
 "nbformat_minor": 5
}
